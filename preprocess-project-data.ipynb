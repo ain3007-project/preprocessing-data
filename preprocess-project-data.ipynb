{
 "cells": [
  {
   "cell_type": "code",
   "execution_count": 1,
   "id": "c1a75e1f",
   "metadata": {
    "_cell_guid": "b1076dfc-b9ad-4769-8c92-a6c4dae69d19",
    "_uuid": "8f2839f25d086af736a60e9eeb907d3b93b6e0e5",
    "execution": {
     "iopub.execute_input": "2023-12-05T11:08:18.446468Z",
     "iopub.status.busy": "2023-12-05T11:08:18.446070Z",
     "iopub.status.idle": "2023-12-05T11:09:11.095892Z",
     "shell.execute_reply": "2023-12-05T11:09:11.094196Z"
    },
    "papermill": {
     "duration": 52.670412,
     "end_time": "2023-12-05T11:09:11.099216",
     "exception": false,
     "start_time": "2023-12-05T11:08:18.428804",
     "status": "completed"
    },
    "tags": []
   },
   "outputs": [],
   "source": [
    "%%capture \n",
    "\n",
    "!apt install -y software-properties-common\n",
    "!add-apt-repository -y ppa:openslide/openslide\n",
    "!apt install -y openslide-tools\n",
    "# !apt install python3-openslide\n",
    "!pip install openslide-python\n",
    "!pip install -U huggingface-hub"
   ]
  },
  {
   "cell_type": "markdown",
   "id": "4c6d6abf",
   "metadata": {
    "papermill": {
     "duration": 0.007809,
     "end_time": "2023-12-05T11:09:11.115464",
     "exception": false,
     "start_time": "2023-12-05T11:09:11.107655",
     "status": "completed"
    },
    "tags": []
   },
   "source": [
    "make turn all images into tiff and xml's into tiff and save them into another repo\n",
    "save thumbnails into a thumbnails repo for visual inspection\n"
   ]
  },
  {
   "cell_type": "code",
   "execution_count": 2,
   "id": "b0ff771b",
   "metadata": {
    "execution": {
     "iopub.execute_input": "2023-12-05T11:09:11.136448Z",
     "iopub.status.busy": "2023-12-05T11:09:11.135191Z",
     "iopub.status.idle": "2023-12-05T11:09:11.141496Z",
     "shell.execute_reply": "2023-12-05T11:09:11.140553Z"
    },
    "papermill": {
     "duration": 0.018941,
     "end_time": "2023-12-05T11:09:11.144129",
     "exception": false,
     "start_time": "2023-12-05T11:09:11.125188",
     "status": "completed"
    },
    "tags": []
   },
   "outputs": [],
   "source": [
    "raw_repo_id = \"ain3007-project/raw-dataset\"\n",
    "new_repo_id = \"ain3007-project/dataset-tiff\"\n",
    "thumbnail_repo_id = \"ain3007-project/dataset-thumbnails-2000\""
   ]
  },
  {
   "cell_type": "code",
   "execution_count": 3,
   "id": "04753fee",
   "metadata": {
    "execution": {
     "iopub.execute_input": "2023-12-05T11:09:11.161846Z",
     "iopub.status.busy": "2023-12-05T11:09:11.161399Z",
     "iopub.status.idle": "2023-12-05T11:09:12.110011Z",
     "shell.execute_reply": "2023-12-05T11:09:12.108781Z"
    },
    "papermill": {
     "duration": 0.961225,
     "end_time": "2023-12-05T11:09:12.113404",
     "exception": false,
     "start_time": "2023-12-05T11:09:11.152179",
     "status": "completed"
    },
    "tags": []
   },
   "outputs": [],
   "source": [
    "import openslide\n",
    "import huggingface_hub as hfh\n",
    "import numpy as np\n",
    "import cv2\n",
    "import pandas as pd\n",
    "from PIL import Image\n",
    "from tqdm.notebook import tqdm\n",
    "import shutil\n",
    "from xml.etree import ElementTree as ET\n",
    "from PIL import Image, ImageDraw\n",
    "import os"
   ]
  },
  {
   "cell_type": "code",
   "execution_count": 4,
   "id": "b21c9bfe",
   "metadata": {
    "execution": {
     "iopub.execute_input": "2023-12-05T11:09:12.133602Z",
     "iopub.status.busy": "2023-12-05T11:09:12.133014Z",
     "iopub.status.idle": "2023-12-05T11:09:12.138746Z",
     "shell.execute_reply": "2023-12-05T11:09:12.137381Z"
    },
    "papermill": {
     "duration": 0.019495,
     "end_time": "2023-12-05T11:09:12.141285",
     "exception": false,
     "start_time": "2023-12-05T11:09:12.121790",
     "status": "completed"
    },
    "tags": []
   },
   "outputs": [],
   "source": [
    "os.environ['HF_HUB_DISABLE_PROGRESS_BARS'] = '1'\n",
    "# hfh.utils.disable_progress_bars() # this raises error for some reason"
   ]
  },
  {
   "cell_type": "code",
   "execution_count": 5,
   "id": "0285e7f7",
   "metadata": {
    "execution": {
     "iopub.execute_input": "2023-12-05T11:09:12.159766Z",
     "iopub.status.busy": "2023-12-05T11:09:12.159344Z",
     "iopub.status.idle": "2023-12-05T11:09:12.728645Z",
     "shell.execute_reply": "2023-12-05T11:09:12.727416Z"
    },
    "papermill": {
     "duration": 0.582229,
     "end_time": "2023-12-05T11:09:12.731420",
     "exception": false,
     "start_time": "2023-12-05T11:09:12.149191",
     "status": "completed"
    },
    "tags": []
   },
   "outputs": [
    {
     "name": "stdout",
     "output_type": "stream",
     "text": [
      "Token will not been saved to git credential helper. Pass `add_to_git_credential=True` if you want to set the git credential as well.\n",
      "Token is valid (permission: write).\n",
      "Your token has been saved to /root/.cache/huggingface/token\n",
      "Login successful\n"
     ]
    }
   ],
   "source": [
    "hfh.login(\"INSERT TOKEN HERE\")"
   ]
  },
  {
   "cell_type": "code",
   "execution_count": 6,
   "id": "a2c08eb6",
   "metadata": {
    "execution": {
     "iopub.execute_input": "2023-12-05T11:09:12.749639Z",
     "iopub.status.busy": "2023-12-05T11:09:12.749195Z",
     "iopub.status.idle": "2023-12-05T11:09:13.140647Z",
     "shell.execute_reply": "2023-12-05T11:09:13.139581Z"
    },
    "papermill": {
     "duration": 0.403648,
     "end_time": "2023-12-05T11:09:13.143432",
     "exception": false,
     "start_time": "2023-12-05T11:09:12.739784",
     "status": "completed"
    },
    "tags": []
   },
   "outputs": [
    {
     "data": {
      "text/plain": [
       "RepoUrl('https://huggingface.co/datasets/ain3007-project/dataset-thumbnails-2000', endpoint='https://huggingface.co', repo_type='dataset', repo_id='ain3007-project/dataset-thumbnails-2000')"
      ]
     },
     "execution_count": 6,
     "metadata": {},
     "output_type": "execute_result"
    }
   ],
   "source": [
    "hfh.create_repo(repo_id=new_repo_id, repo_type=\"dataset\",private=True, exist_ok=True)\n",
    "hfh.create_repo(repo_id=thumbnail_repo_id, repo_type=\"dataset\",private=True, exist_ok=True)"
   ]
  },
  {
   "cell_type": "code",
   "execution_count": 7,
   "id": "4cec2b63",
   "metadata": {
    "execution": {
     "iopub.execute_input": "2023-12-05T11:09:13.162456Z",
     "iopub.status.busy": "2023-12-05T11:09:13.162070Z",
     "iopub.status.idle": "2023-12-05T11:09:14.262432Z",
     "shell.execute_reply": "2023-12-05T11:09:14.261553Z"
    },
    "papermill": {
     "duration": 1.112738,
     "end_time": "2023-12-05T11:09:14.264906",
     "exception": false,
     "start_time": "2023-12-05T11:09:13.152168",
     "status": "completed"
    },
    "tags": []
   },
   "outputs": [
    {
     "data": {
      "text/plain": [
       "RepoFile(path='.gitattributes', size=33568, blob_id='8960f8cc72aabf94beb88eb49e8ca0a0f242795f', lfs=None, last_commit=None, security=None)"
      ]
     },
     "execution_count": 7,
     "metadata": {},
     "output_type": "execute_result"
    }
   ],
   "source": [
    "all_files_raw = list(hfh.list_files_info(repo_id=raw_repo_id, repo_type=\"dataset\"))\n",
    "all_files_raw[0]"
   ]
  },
  {
   "cell_type": "code",
   "execution_count": 8,
   "id": "7a2cd2ee",
   "metadata": {
    "execution": {
     "iopub.execute_input": "2023-12-05T11:09:14.283739Z",
     "iopub.status.busy": "2023-12-05T11:09:14.283301Z",
     "iopub.status.idle": "2023-12-05T11:09:14.291904Z",
     "shell.execute_reply": "2023-12-05T11:09:14.290833Z"
    },
    "papermill": {
     "duration": 0.020675,
     "end_time": "2023-12-05T11:09:14.294229",
     "exception": false,
     "start_time": "2023-12-05T11:09:14.273554",
     "status": "completed"
    },
    "tags": []
   },
   "outputs": [
    {
     "data": {
      "text/plain": [
       "(1457, 'Breast1__he/TCGA-A1-A0SM-01Z-00-DX1.svs')"
      ]
     },
     "execution_count": 8,
     "metadata": {},
     "output_type": "execute_result"
    }
   ],
   "source": [
    "file_names = list(map(lambda x: x.rfilename, all_files_raw))\n",
    "file_names.remove(\".gitattributes\")\n",
    "file_names.remove(\"Prostate1__he/._00a76bfbec239fd9f465d6581806ff42.tiff\")\n",
    "len(file_names), file_names[0]"
   ]
  },
  {
   "cell_type": "code",
   "execution_count": 9,
   "id": "2d89af15",
   "metadata": {
    "execution": {
     "iopub.execute_input": "2023-12-05T11:09:14.313268Z",
     "iopub.status.busy": "2023-12-05T11:09:14.312837Z",
     "iopub.status.idle": "2023-12-05T11:09:14.322157Z",
     "shell.execute_reply": "2023-12-05T11:09:14.321025Z"
    },
    "papermill": {
     "duration": 0.021812,
     "end_time": "2023-12-05T11:09:14.324615",
     "exception": false,
     "start_time": "2023-12-05T11:09:14.302803",
     "status": "completed"
    },
    "tags": []
   },
   "outputs": [
    {
     "data": {
      "text/plain": [
       "(40,\n",
       " ('Breast1__he/TCGA-A1-A0SM-01Z-00-DX1*',\n",
       "  'Breast1__he/TCGA-A1-A0SM-01Z-00-DX1.svs',\n",
       "  'Breast1__he/TCGA-A1-A0SM-01Z-00-DX1.xml'))"
      ]
     },
     "execution_count": 9,
     "metadata": {},
     "output_type": "execute_result"
    }
   ],
   "source": [
    "breast1_files = [i.replace(\".svs\", \"\") for i in file_names if i.endswith(\"svs\")]\n",
    "breast1_files = [(i+\"*\", i+\".svs\", i+\".xml\") for i in breast1_files]\n",
    "len(breast1_files), breast1_files[0]"
   ]
  },
  {
   "cell_type": "code",
   "execution_count": 10,
   "id": "73dce943",
   "metadata": {
    "execution": {
     "iopub.execute_input": "2023-12-05T11:09:14.343734Z",
     "iopub.status.busy": "2023-12-05T11:09:14.343282Z",
     "iopub.status.idle": "2023-12-05T11:09:14.352657Z",
     "shell.execute_reply": "2023-12-05T11:09:14.351594Z"
    },
    "papermill": {
     "duration": 0.021422,
     "end_time": "2023-12-05T11:09:14.354811",
     "exception": false,
     "start_time": "2023-12-05T11:09:14.333389",
     "status": "completed"
    },
    "tags": []
   },
   "outputs": [
    {
     "data": {
      "text/plain": [
       "(40,\n",
       " (('Breast2__he/1/*', 'Breast2__he/1.*'),\n",
       "  'Breast2__he/1.mrxs',\n",
       "  'Breast2__he/1.xml'))"
      ]
     },
     "execution_count": 10,
     "metadata": {},
     "output_type": "execute_result"
    }
   ],
   "source": [
    "breast2_files = [i.replace(\".mrxs\", \"\") for i in file_names if i.endswith(\"mrxs\")]\n",
    "breast2_files = [((i+\"/*\", i+\".*\"), i+\".mrxs\", i+\".xml\") for i in breast2_files]\n",
    "len(breast2_files), breast2_files[0]"
   ]
  },
  {
   "cell_type": "code",
   "execution_count": 11,
   "id": "7f6945c1",
   "metadata": {
    "execution": {
     "iopub.execute_input": "2023-12-05T11:09:14.375969Z",
     "iopub.status.busy": "2023-12-05T11:09:14.375572Z",
     "iopub.status.idle": "2023-12-05T11:09:14.384179Z",
     "shell.execute_reply": "2023-12-05T11:09:14.382974Z"
    },
    "papermill": {
     "duration": 0.022235,
     "end_time": "2023-12-05T11:09:14.386654",
     "exception": false,
     "start_time": "2023-12-05T11:09:14.364419",
     "status": "completed"
    },
    "tags": []
   },
   "outputs": [
    {
     "data": {
      "text/plain": [
       "(40,\n",
       " ('Breast3__ihc/04_HER2*',\n",
       "  'Breast3__ihc/04_HER2.ndpi',\n",
       "  'Breast3__ihc/04_HER2.xml'))"
      ]
     },
     "execution_count": 11,
     "metadata": {},
     "output_type": "execute_result"
    }
   ],
   "source": [
    "breast3_files = [i.replace(\".ndpi\", \"\") for i in file_names if i.endswith(\"ndpi\")]\n",
    "breast3_files = [(i+\"*\", i+\".ndpi\", i+\".xml\") for i in breast3_files]\n",
    "len(breast3_files), breast3_files[0]"
   ]
  },
  {
   "cell_type": "code",
   "execution_count": 12,
   "id": "8c00ecb3",
   "metadata": {
    "execution": {
     "iopub.execute_input": "2023-12-05T11:09:14.406813Z",
     "iopub.status.busy": "2023-12-05T11:09:14.406367Z",
     "iopub.status.idle": "2023-12-05T11:09:14.417076Z",
     "shell.execute_reply": "2023-12-05T11:09:14.415582Z"
    },
    "papermill": {
     "duration": 0.023925,
     "end_time": "2023-12-05T11:09:14.419570",
     "exception": false,
     "start_time": "2023-12-05T11:09:14.395645",
     "status": "completed"
    },
    "tags": []
   },
   "outputs": [
    {
     "data": {
      "text/plain": [
       "(40,\n",
       " ('LymphNode1__he/patient_002_node_1*',\n",
       "  'LymphNode1__he/patient_002_node_1.tif',\n",
       "  'LymphNode1__he/patient_002_node_1.xml'))"
      ]
     },
     "execution_count": 12,
     "metadata": {},
     "output_type": "execute_result"
    }
   ],
   "source": [
    "lymph1_files = [i.replace(\".tif\", \"\") for i in file_names if i.endswith(\"tif\")]\n",
    "lymph1_files = [(i+\"*\", i+\".tif\", i+\".xml\") for i in lymph1_files]\n",
    "len(lymph1_files), lymph1_files[0]"
   ]
  },
  {
   "cell_type": "code",
   "execution_count": 13,
   "id": "6e7f2e47",
   "metadata": {
    "execution": {
     "iopub.execute_input": "2023-12-05T11:09:14.439512Z",
     "iopub.status.busy": "2023-12-05T11:09:14.439122Z",
     "iopub.status.idle": "2023-12-05T11:09:14.448950Z",
     "shell.execute_reply": "2023-12-05T11:09:14.447853Z"
    },
    "papermill": {
     "duration": 0.022718,
     "end_time": "2023-12-05T11:09:14.451459",
     "exception": false,
     "start_time": "2023-12-05T11:09:14.428741",
     "status": "completed"
    },
    "tags": []
   },
   "outputs": [
    {
     "data": {
      "text/plain": [
       "(40,\n",
       " ('Prostate1__he/0005f7aaab2800f6170c399693a96917*',\n",
       "  'Prostate1__he/0005f7aaab2800f6170c399693a96917.tiff',\n",
       "  None))"
      ]
     },
     "execution_count": 13,
     "metadata": {},
     "output_type": "execute_result"
    }
   ],
   "source": [
    "prostate1_files = [i.replace(\".tiff\", \"\") for i in file_names if i.endswith(\"tiff\")]\n",
    "prostate1_files = [(i+\"*\", i+\".tiff\", None) for i in prostate1_files]\n",
    "len(prostate1_files), prostate1_files[0]"
   ]
  },
  {
   "cell_type": "code",
   "execution_count": 14,
   "id": "f6900d2f",
   "metadata": {
    "execution": {
     "iopub.execute_input": "2023-12-05T11:09:14.472423Z",
     "iopub.status.busy": "2023-12-05T11:09:14.472037Z",
     "iopub.status.idle": "2023-12-05T11:09:15.568349Z",
     "shell.execute_reply": "2023-12-05T11:09:15.567006Z"
    },
    "papermill": {
     "duration": 1.110198,
     "end_time": "2023-12-05T11:09:15.571366",
     "exception": false,
     "start_time": "2023-12-05T11:09:14.461168",
     "status": "completed"
    },
    "tags": []
   },
   "outputs": [],
   "source": [
    "!mkdir images masks\n",
    "api = hfh.HfApi()"
   ]
  },
  {
   "cell_type": "code",
   "execution_count": 15,
   "id": "c1d0c0ef",
   "metadata": {
    "execution": {
     "iopub.execute_input": "2023-12-05T11:09:15.594110Z",
     "iopub.status.busy": "2023-12-05T11:09:15.593632Z",
     "iopub.status.idle": "2023-12-05T11:09:15.607770Z",
     "shell.execute_reply": "2023-12-05T11:09:15.606468Z"
    },
    "papermill": {
     "duration": 0.028069,
     "end_time": "2023-12-05T11:09:15.610657",
     "exception": false,
     "start_time": "2023-12-05T11:09:15.582588",
     "status": "completed"
    },
    "tags": []
   },
   "outputs": [],
   "source": [
    "def str2float(x):\n",
    "    return float(x.replace(\",\", \".\"))\n",
    "    \n",
    "def get_mask_from_xml(xml_path, image_size, image_shrinking_factor):\n",
    "    tree = ET.parse(xml_path)\n",
    "    root = tree.getroot()\n",
    "    image = Image.new(\"L\", image_size, \"white\")\n",
    "    draw = ImageDraw.Draw(image)\n",
    "    draw.fill = True\n",
    "    label2grayscale_color = {\"bg\": 0, \"tissue\": 1, \"tisuue\": 1}\n",
    "    for i in root[0]:\n",
    "        annotation_type = i.attrib[\"Type\"]\n",
    "        annotation_label = i.attrib[\"PartOfGroup\"]\n",
    "        # there is roi rectangle\n",
    "        if annotation_type not in [\"Spline\", \"Polygon\", \"Rectangle\"]:\n",
    "            print(f\"Annotation type must be either Spline, Rectangle or Polygon but found: {annotation_type}\")\n",
    "            continue\n",
    "            \n",
    "        if annotation_label not in label2grayscale_color:\n",
    "            print(f\"Annotation label must be either tissue or bg but found: {annotation_label}\")\n",
    "            continue\n",
    "        \n",
    "        coordinates = [(i.attrib[\"X\"], i.attrib[\"Y\"]) for i in i[0]]\n",
    "        coordinates = [(str2float(x), str2float(y)) for x, y in coordinates]\n",
    "        coordinates = [(x*image_shrinking_factor, y*image_shrinking_factor) for x, y in coordinates]\n",
    "        \n",
    "        if annotation_type in [\"Spline\", \"Polygon\"]:\n",
    "            draw.polygon(coordinates, fill=label2grayscale_color[annotation_label])\n",
    "        elif annotation_type == \"Rectangle\":\n",
    "            # ^\n",
    "            # |         point 1 is bigger than point 3\n",
    "            # | 0 1\n",
    "            # | 3 2 \n",
    "            # |------->\n",
    "            draw.rectangle([coordinates[3], coordinates[1]], fill=label2grayscale_color[annotation_label])\n",
    "#         if annotation_type == \"Spline\":\n",
    "#             draw.line(coordinates, fill=label2grayscale_color[annotation_label], width=1)\n",
    "#         elif annotation_type == \"Polygon\":\n",
    "#             draw.polygon(coordinates, fill=label2grayscale_color[annotation_label])\n",
    "    return image"
   ]
  },
  {
   "cell_type": "code",
   "execution_count": 16,
   "id": "e7a5053b",
   "metadata": {
    "execution": {
     "iopub.execute_input": "2023-12-05T11:09:15.632173Z",
     "iopub.status.busy": "2023-12-05T11:09:15.631087Z",
     "iopub.status.idle": "2023-12-05T11:09:15.642646Z",
     "shell.execute_reply": "2023-12-05T11:09:15.641187Z"
    },
    "papermill": {
     "duration": 0.02503,
     "end_time": "2023-12-05T11:09:15.645294",
     "exception": false,
     "start_time": "2023-12-05T11:09:15.620264",
     "status": "completed"
    },
    "tags": []
   },
   "outputs": [],
   "source": [
    "def process(file_list, image_idx, thumbnail_size=(2000, 2000), source_folder_name=\"Breast1__he\"):\n",
    "    for allow_pattern, image_path, xml_path in file_list:\n",
    "        path = hfh.snapshot_download(\n",
    "            repo_id=raw_repo_id, \n",
    "            repo_type=\"dataset\", \n",
    "            allow_patterns=allow_pattern,\n",
    "            cache_dir=\"hf_folder\",\n",
    "        )\n",
    "#         print(os.path.join(path, image_path))\n",
    "        try:\n",
    "            slide_file = openslide.OpenSlide(os.path.join(path, image_path))\n",
    "        except openslide.OpenSlideUnsupportedFormatError:\n",
    "            print(f\"image {image_path} didnt get recognized by OpenSlide. OpenSlideUnsupportedFormatError\")\n",
    "            image_idx += 1\n",
    "            shutil.rmtree('hf_folder')\n",
    "            continue\n",
    "        except openslide.OpenSlideError:\n",
    "            print(f\"image {image_path} didnt get recognized by OpenSlide. OpenSlideError\")\n",
    "            image_idx += 1\n",
    "            shutil.rmtree('hf_folder')\n",
    "            continue\n",
    "\n",
    "\n",
    "        thumbnail = slide_file.get_thumbnail(thumbnail_size)\n",
    "        thumbnail.save(f\"images/{image_idx}.png\")\n",
    "\n",
    "        image_shrinking_factor = min(thumbnail.size) / min(slide_file.dimensions)\n",
    "        \n",
    "        if xml_path is not None:\n",
    "            mask = get_mask_from_xml(\n",
    "                os.path.join(path, xml_path),\n",
    "                thumbnail.size,\n",
    "                image_shrinking_factor\n",
    "            )\n",
    "            mask.save(f\"masks/{image_idx}.png\")\n",
    "        shutil.rmtree('hf_folder')\n",
    "        print(f\"finished {image_idx} image of {source_folder_name}\")\n",
    "        image_idx += 1\n",
    "        \n",
    "    return image_idx"
   ]
  },
  {
   "cell_type": "code",
   "execution_count": 17,
   "id": "cc35a112",
   "metadata": {
    "execution": {
     "iopub.execute_input": "2023-12-05T11:09:15.666056Z",
     "iopub.status.busy": "2023-12-05T11:09:15.665619Z",
     "iopub.status.idle": "2023-12-05T11:12:51.918243Z",
     "shell.execute_reply": "2023-12-05T11:12:51.916832Z"
    },
    "papermill": {
     "duration": 216.266176,
     "end_time": "2023-12-05T11:12:51.920891",
     "exception": false,
     "start_time": "2023-12-05T11:09:15.654715",
     "status": "completed"
    },
    "tags": []
   },
   "outputs": [
    {
     "name": "stdout",
     "output_type": "stream",
     "text": [
      "finished 0 image of Breast1\n",
      "finished 1 image of Breast1\n",
      "finished 2 image of Breast1\n",
      "finished 3 image of Breast1\n",
      "finished 4 image of Breast1\n",
      "finished 5 image of Breast1\n",
      "finished 6 image of Breast1\n",
      "finished 7 image of Breast1\n",
      "finished 8 image of Breast1\n",
      "finished 9 image of Breast1\n",
      "finished 10 image of Breast1\n",
      "finished 11 image of Breast1\n",
      "finished 12 image of Breast1\n",
      "finished 13 image of Breast1\n",
      "finished 14 image of Breast1\n",
      "finished 15 image of Breast1\n",
      "finished 16 image of Breast1\n",
      "finished 17 image of Breast1\n",
      "finished 18 image of Breast1\n",
      "finished 19 image of Breast1\n",
      "finished 20 image of Breast1\n",
      "finished 21 image of Breast1\n",
      "finished 22 image of Breast1\n",
      "finished 23 image of Breast1\n",
      "finished 24 image of Breast1\n",
      "finished 25 image of Breast1\n",
      "finished 26 image of Breast1\n",
      "finished 27 image of Breast1\n",
      "finished 28 image of Breast1\n",
      "finished 29 image of Breast1\n",
      "finished 30 image of Breast1\n",
      "finished 31 image of Breast1\n",
      "finished 32 image of Breast1\n",
      "finished 33 image of Breast1\n",
      "finished 34 image of Breast1\n",
      "finished 35 image of Breast1\n",
      "finished 36 image of Breast1\n",
      "finished 37 image of Breast1\n",
      "finished 38 image of Breast1\n",
      "finished 39 image of Breast1\n"
     ]
    },
    {
     "data": {
      "text/plain": [
       "40"
      ]
     },
     "execution_count": 17,
     "metadata": {},
     "output_type": "execute_result"
    }
   ],
   "source": [
    "image_idx = 0\n",
    "image_idx = process(breast1_files,   image_idx, thumbnail_size=(2000, 2000), source_folder_name=\"Breast1\")\n",
    "image_idx"
   ]
  },
  {
   "cell_type": "code",
   "execution_count": 18,
   "id": "9ab6028a",
   "metadata": {
    "execution": {
     "iopub.execute_input": "2023-12-05T11:12:51.949625Z",
     "iopub.status.busy": "2023-12-05T11:12:51.948856Z",
     "iopub.status.idle": "2023-12-05T11:23:25.138625Z",
     "shell.execute_reply": "2023-12-05T11:23:25.136420Z"
    },
    "papermill": {
     "duration": 633.207422,
     "end_time": "2023-12-05T11:23:25.141450",
     "exception": false,
     "start_time": "2023-12-05T11:12:51.934028",
     "status": "completed"
    },
    "tags": []
   },
   "outputs": [
    {
     "name": "stdout",
     "output_type": "stream",
     "text": [
      "finished 40 image of Breast2\n",
      "finished 41 image of Breast2\n",
      "finished 42 image of Breast2\n",
      "finished 43 image of Breast2\n",
      "finished 44 image of Breast2\n",
      "finished 45 image of Breast2\n",
      "finished 46 image of Breast2\n",
      "finished 47 image of Breast2\n",
      "finished 48 image of Breast2\n",
      "finished 49 image of Breast2\n",
      "finished 50 image of Breast2\n",
      "finished 51 image of Breast2\n",
      "finished 52 image of Breast2\n",
      "Annotation label must be either tissue or bg but found: roi\n",
      "finished 53 image of Breast2\n",
      "finished 54 image of Breast2\n",
      "finished 55 image of Breast2\n",
      "finished 56 image of Breast2\n",
      "finished 57 image of Breast2\n",
      "finished 58 image of Breast2\n",
      "finished 59 image of Breast2\n",
      "finished 60 image of Breast2\n",
      "finished 61 image of Breast2\n",
      "finished 62 image of Breast2\n",
      "finished 63 image of Breast2\n",
      "finished 64 image of Breast2\n",
      "finished 65 image of Breast2\n",
      "finished 66 image of Breast2\n",
      "finished 67 image of Breast2\n",
      "finished 68 image of Breast2\n",
      "finished 69 image of Breast2\n",
      "finished 70 image of Breast2\n",
      "finished 71 image of Breast2\n",
      "finished 72 image of Breast2\n",
      "finished 73 image of Breast2\n",
      "finished 74 image of Breast2\n",
      "finished 75 image of Breast2\n",
      "finished 76 image of Breast2\n",
      "finished 77 image of Breast2\n",
      "finished 78 image of Breast2\n",
      "finished 79 image of Breast2\n"
     ]
    },
    {
     "data": {
      "text/plain": [
       "80"
      ]
     },
     "execution_count": 18,
     "metadata": {},
     "output_type": "execute_result"
    }
   ],
   "source": [
    "image_idx = process(breast2_files,   image_idx, thumbnail_size=(2000, 2000), source_folder_name=\"Breast2\")\n",
    "image_idx"
   ]
  },
  {
   "cell_type": "code",
   "execution_count": 19,
   "id": "2f466c44",
   "metadata": {
    "execution": {
     "iopub.execute_input": "2023-12-05T11:23:25.178207Z",
     "iopub.status.busy": "2023-12-05T11:23:25.177361Z",
     "iopub.status.idle": "2023-12-05T11:25:42.992171Z",
     "shell.execute_reply": "2023-12-05T11:25:42.990422Z"
    },
    "papermill": {
     "duration": 137.836002,
     "end_time": "2023-12-05T11:25:42.994639",
     "exception": false,
     "start_time": "2023-12-05T11:23:25.158637",
     "status": "completed"
    },
    "tags": []
   },
   "outputs": [
    {
     "name": "stdout",
     "output_type": "stream",
     "text": [
      "finished 80 image of Breast3\n",
      "finished 81 image of Breast3\n",
      "finished 82 image of Breast3\n",
      "finished 83 image of Breast3\n",
      "finished 84 image of Breast3\n",
      "finished 85 image of Breast3\n",
      "finished 86 image of Breast3\n",
      "finished 87 image of Breast3\n",
      "finished 88 image of Breast3\n",
      "finished 89 image of Breast3\n",
      "finished 90 image of Breast3\n",
      "finished 91 image of Breast3\n",
      "finished 92 image of Breast3\n",
      "finished 93 image of Breast3\n",
      "finished 94 image of Breast3\n",
      "finished 95 image of Breast3\n",
      "finished 96 image of Breast3\n",
      "finished 97 image of Breast3\n",
      "finished 98 image of Breast3\n",
      "finished 99 image of Breast3\n",
      "finished 100 image of Breast3\n",
      "finished 101 image of Breast3\n",
      "finished 102 image of Breast3\n",
      "finished 103 image of Breast3\n",
      "finished 104 image of Breast3\n",
      "finished 105 image of Breast3\n",
      "finished 106 image of Breast3\n",
      "finished 107 image of Breast3\n",
      "finished 108 image of Breast3\n",
      "finished 109 image of Breast3\n",
      "finished 110 image of Breast3\n",
      "finished 111 image of Breast3\n",
      "finished 112 image of Breast3\n",
      "finished 113 image of Breast3\n",
      "finished 114 image of Breast3\n",
      "finished 115 image of Breast3\n",
      "finished 116 image of Breast3\n",
      "finished 117 image of Breast3\n",
      "finished 118 image of Breast3\n",
      "finished 119 image of Breast3\n"
     ]
    },
    {
     "data": {
      "text/plain": [
       "120"
      ]
     },
     "execution_count": 19,
     "metadata": {},
     "output_type": "execute_result"
    }
   ],
   "source": [
    "image_idx = process(breast3_files,   image_idx, thumbnail_size=(2000, 2000), source_folder_name=\"Breast3\")\n",
    "image_idx"
   ]
  },
  {
   "cell_type": "code",
   "execution_count": 20,
   "id": "03b523eb",
   "metadata": {
    "execution": {
     "iopub.execute_input": "2023-12-05T11:25:43.041190Z",
     "iopub.status.busy": "2023-12-05T11:25:43.039960Z",
     "iopub.status.idle": "2023-12-05T11:31:31.598548Z",
     "shell.execute_reply": "2023-12-05T11:31:31.597224Z"
    },
    "papermill": {
     "duration": 348.583921,
     "end_time": "2023-12-05T11:31:31.601277",
     "exception": false,
     "start_time": "2023-12-05T11:25:43.017356",
     "status": "completed"
    },
    "tags": []
   },
   "outputs": [
    {
     "name": "stdout",
     "output_type": "stream",
     "text": [
      "Annotation label must be either tissue or bg but found: roi\n",
      "finished 120 image of Lymph1\n",
      "Annotation label must be either tissue or bg but found: roi\n",
      "finished 121 image of Lymph1\n",
      "Annotation label must be either tissue or bg but found: roi\n",
      "finished 122 image of Lymph1\n",
      "Annotation label must be either tissue or bg but found: roi\n",
      "finished 123 image of Lymph1\n",
      "Annotation label must be either tissue or bg but found: roi\n",
      "finished 124 image of Lymph1\n",
      "Annotation label must be either tissue or bg but found: roi\n",
      "finished 125 image of Lymph1\n",
      "Annotation label must be either tissue or bg but found: roi\n",
      "finished 126 image of Lymph1\n",
      "Annotation label must be either tissue or bg but found: roi\n",
      "finished 127 image of Lymph1\n",
      "image LymphNode1__he/patient_044_node_0.tif didnt get recognized by OpenSlide. OpenSlideUnsupportedFormatError\n",
      "Annotation label must be either tissue or bg but found: roi\n",
      "finished 129 image of Lymph1\n",
      "Annotation label must be either tissue or bg but found: roi\n",
      "finished 130 image of Lymph1\n",
      "Annotation label must be either tissue or bg but found: roi\n",
      "finished 131 image of Lymph1\n",
      "Annotation label must be either tissue or bg but found: roi\n",
      "finished 132 image of Lymph1\n",
      "Annotation label must be either tissue or bg but found: roi\n",
      "finished 133 image of Lymph1\n",
      "Annotation label must be either tissue or bg but found: roi\n",
      "finished 134 image of Lymph1\n",
      "Annotation label must be either tissue or bg but found: roi\n",
      "finished 135 image of Lymph1\n",
      "Annotation label must be either tissue or bg but found: roi\n",
      "finished 136 image of Lymph1\n",
      "Annotation label must be either tissue or bg but found: roi\n",
      "finished 137 image of Lymph1\n",
      "Annotation label must be either tissue or bg but found: roi\n",
      "finished 138 image of Lymph1\n",
      "Annotation label must be either tissue or bg but found: roi\n",
      "finished 139 image of Lymph1\n",
      "Annotation label must be either tissue or bg but found: roi\n",
      "finished 140 image of Lymph1\n",
      "Annotation label must be either tissue or bg but found: roi\n",
      "finished 141 image of Lymph1\n",
      "Annotation label must be either tissue or bg but found: roi\n",
      "finished 142 image of Lymph1\n",
      "image LymphNode1__he/patient_069_node_0.tif didnt get recognized by OpenSlide. OpenSlideUnsupportedFormatError\n",
      "Annotation label must be either tissue or bg but found: roi\n",
      "finished 144 image of Lymph1\n",
      "Annotation label must be either tissue or bg but found: roi\n",
      "finished 145 image of Lymph1\n",
      "Annotation label must be either tissue or bg but found: roi\n",
      "finished 146 image of Lymph1\n",
      "Annotation label must be either tissue or bg but found: roi\n",
      "finished 147 image of Lymph1\n",
      "image LymphNode1__he/patient_078_node_0.tif didnt get recognized by OpenSlide. OpenSlideUnsupportedFormatError\n",
      "Annotation label must be either tissue or bg but found: roi\n",
      "finished 149 image of Lymph1\n",
      "Annotation label must be either tissue or bg but found: roi\n",
      "finished 150 image of Lymph1\n",
      "Annotation label must be either tissue or bg but found: roi\n",
      "finished 151 image of Lymph1\n",
      "Annotation label must be either tissue or bg but found: roi\n",
      "finished 152 image of Lymph1\n",
      "Annotation label must be either tissue or bg but found: roi\n",
      "finished 153 image of Lymph1\n",
      "Annotation label must be either tissue or bg but found: roi\n",
      "finished 154 image of Lymph1\n",
      "Annotation label must be either tissue or bg but found: roi\n",
      "finished 155 image of Lymph1\n"
     ]
    },
    {
     "name": "stderr",
     "output_type": "stream",
     "text": [
      "hf_folder/datasets--ain3007-project--raw-dataset/snapshots/657934f16e042b975b5aba440fd064fad5cbdfdc/LymphNode1__he/patient_092_node_0.tif: Failed to allocate memory for to read TIFF directory (0 elements of 20 bytes each).\n",
      "TIFFReadDirectory: Failed to read directory at offset 871004154.\n"
     ]
    },
    {
     "name": "stdout",
     "output_type": "stream",
     "text": [
      "image LymphNode1__he/patient_092_node_0.tif didnt get recognized by OpenSlide. OpenSlideError\n",
      "image LymphNode1__he/patient_096_node_0.tif didnt get recognized by OpenSlide. OpenSlideUnsupportedFormatError\n"
     ]
    },
    {
     "name": "stderr",
     "output_type": "stream",
     "text": [
      "hf_folder/datasets--ain3007-project--raw-dataset/snapshots/657934f16e042b975b5aba440fd064fad5cbdfdc/LymphNode1__he/patient_097_node_0.tif: Failed to allocate memory for to read TIFF directory (0 elements of 20 bytes each).\n",
      "TIFFReadDirectory: Failed to read directory at offset 444340392.\n"
     ]
    },
    {
     "name": "stdout",
     "output_type": "stream",
     "text": [
      "image LymphNode1__he/patient_097_node_0.tif didnt get recognized by OpenSlide. OpenSlideError\n",
      "image LymphNode1__he/patient_098_node_0.tif didnt get recognized by OpenSlide. OpenSlideUnsupportedFormatError\n"
     ]
    },
    {
     "data": {
      "text/plain": [
       "160"
      ]
     },
     "execution_count": 20,
     "metadata": {},
     "output_type": "execute_result"
    }
   ],
   "source": [
    "image_idx = process(lymph1_files,    image_idx, thumbnail_size=(2000, 2000), source_folder_name=\"Lymph1\")\n",
    "image_idx"
   ]
  },
  {
   "cell_type": "code",
   "execution_count": 21,
   "id": "23f0e64a",
   "metadata": {
    "execution": {
     "iopub.execute_input": "2023-12-05T11:31:31.661513Z",
     "iopub.status.busy": "2023-12-05T11:31:31.660703Z",
     "iopub.status.idle": "2023-12-05T11:33:29.661371Z",
     "shell.execute_reply": "2023-12-05T11:33:29.659213Z"
    },
    "papermill": {
     "duration": 118.034577,
     "end_time": "2023-12-05T11:33:29.664307",
     "exception": false,
     "start_time": "2023-12-05T11:31:31.629730",
     "status": "completed"
    },
    "tags": []
   },
   "outputs": [
    {
     "name": "stdout",
     "output_type": "stream",
     "text": [
      "finished 160 image of Prostate1\n",
      "finished 161 image of Prostate1\n",
      "finished 162 image of Prostate1\n",
      "finished 163 image of Prostate1\n",
      "finished 164 image of Prostate1\n",
      "image Prostate1__he/003046e27c8ead3e3db155780dc5498e.tiff didnt get recognized by OpenSlide. OpenSlideUnsupportedFormatError\n",
      "finished 166 image of Prostate1\n",
      "finished 167 image of Prostate1\n",
      "finished 168 image of Prostate1\n",
      "finished 169 image of Prostate1\n",
      "image Prostate1__he/004391d48d58b18156f811087cd38abf.tiff didnt get recognized by OpenSlide. OpenSlideUnsupportedFormatError\n",
      "finished 171 image of Prostate1\n",
      "finished 172 image of Prostate1\n",
      "finished 173 image of Prostate1\n",
      "finished 174 image of Prostate1\n",
      "finished 175 image of Prostate1\n",
      "finished 176 image of Prostate1\n",
      "finished 177 image of Prostate1\n",
      "finished 178 image of Prostate1\n",
      "finished 179 image of Prostate1\n",
      "finished 180 image of Prostate1\n",
      "finished 181 image of Prostate1\n",
      "finished 182 image of Prostate1\n",
      "image Prostate1__he/0125392d1963a6b69a37f9e30333d68a.tiff didnt get recognized by OpenSlide. OpenSlideUnsupportedFormatError\n",
      "finished 184 image of Prostate1\n",
      "finished 185 image of Prostate1\n",
      "image Prostate1__he/01699a34381500901408ba3258f5c61a.tiff didnt get recognized by OpenSlide. OpenSlideUnsupportedFormatError\n",
      "finished 187 image of Prostate1\n",
      "finished 188 image of Prostate1\n",
      "finished 189 image of Prostate1\n",
      "finished 190 image of Prostate1\n",
      "finished 191 image of Prostate1\n",
      "finished 192 image of Prostate1\n",
      "finished 193 image of Prostate1\n",
      "finished 194 image of Prostate1\n",
      "finished 195 image of Prostate1\n",
      "finished 196 image of Prostate1\n",
      "finished 197 image of Prostate1\n",
      "finished 198 image of Prostate1\n",
      "finished 199 image of Prostate1\n"
     ]
    },
    {
     "data": {
      "text/plain": [
       "200"
      ]
     },
     "execution_count": 21,
     "metadata": {},
     "output_type": "execute_result"
    }
   ],
   "source": [
    "image_idx = process(prostate1_files, image_idx, thumbnail_size=(2000, 2000), source_folder_name=\"Prostate1\")\n",
    "image_idx"
   ]
  },
  {
   "cell_type": "code",
   "execution_count": 22,
   "id": "3f0bc245",
   "metadata": {
    "execution": {
     "iopub.execute_input": "2023-12-05T11:33:29.730551Z",
     "iopub.status.busy": "2023-12-05T11:33:29.730107Z",
     "iopub.status.idle": "2023-12-05T11:34:07.866798Z",
     "shell.execute_reply": "2023-12-05T11:34:07.865869Z"
    },
    "papermill": {
     "duration": 38.172387,
     "end_time": "2023-12-05T11:34:07.869053",
     "exception": false,
     "start_time": "2023-12-05T11:33:29.696666",
     "status": "completed"
    },
    "tags": []
   },
   "outputs": [
    {
     "data": {
      "text/plain": [
       "'https://huggingface.co/datasets/ain3007-project/dataset-thumbnails-2000/tree/main/images'"
      ]
     },
     "execution_count": 22,
     "metadata": {},
     "output_type": "execute_result"
    }
   ],
   "source": [
    "api.upload_folder(\n",
    "    folder_path=\"masks\",\n",
    "    path_in_repo=\"masks\",\n",
    "    repo_id=thumbnail_repo_id,\n",
    "    repo_type=\"dataset\",\n",
    ")\n",
    "\n",
    "api.upload_folder(\n",
    "    folder_path=\"images\",\n",
    "    path_in_repo=\"images\",\n",
    "    repo_id=thumbnail_repo_id,\n",
    "    repo_type=\"dataset\",\n",
    ")"
   ]
  }
 ],
 "metadata": {
  "kaggle": {
   "accelerator": "none",
   "dataSources": [],
   "isGpuEnabled": false,
   "isInternetEnabled": true,
   "language": "python",
   "sourceType": "notebook"
  },
  "kernelspec": {
   "display_name": "Python 3",
   "language": "python",
   "name": "python3"
  },
  "language_info": {
   "codemirror_mode": {
    "name": "ipython",
    "version": 3
   },
   "file_extension": ".py",
   "mimetype": "text/x-python",
   "name": "python",
   "nbconvert_exporter": "python",
   "pygments_lexer": "ipython3",
   "version": "3.10.12"
  },
  "papermill": {
   "default_parameters": {},
   "duration": 1553.968227,
   "end_time": "2023-12-05T11:34:08.729519",
   "environment_variables": {},
   "exception": null,
   "input_path": "__notebook__.ipynb",
   "output_path": "__notebook__.ipynb",
   "parameters": {},
   "start_time": "2023-12-05T11:08:14.761292",
   "version": "2.4.0"
  }
 },
 "nbformat": 4,
 "nbformat_minor": 5
}
