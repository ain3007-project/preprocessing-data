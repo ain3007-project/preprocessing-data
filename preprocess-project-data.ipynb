{
 "cells": [
  {
   "cell_type": "code",
   "execution_count": 1,
   "id": "6d446294",
   "metadata": {
    "_cell_guid": "b1076dfc-b9ad-4769-8c92-a6c4dae69d19",
    "_uuid": "8f2839f25d086af736a60e9eeb907d3b93b6e0e5",
    "execution": {
     "iopub.execute_input": "2024-01-03T22:29:06.614698Z",
     "iopub.status.busy": "2024-01-03T22:29:06.613934Z",
     "iopub.status.idle": "2024-01-03T22:30:00.089323Z",
     "shell.execute_reply": "2024-01-03T22:30:00.087438Z"
    },
    "papermill": {
     "duration": 53.488469,
     "end_time": "2024-01-03T22:30:00.093564",
     "exception": false,
     "start_time": "2024-01-03T22:29:06.605095",
     "status": "completed"
    },
    "tags": []
   },
   "outputs": [],
   "source": [
    "%%capture \n",
    "\n",
    "!apt install -y software-properties-common\n",
    "!add-apt-repository -y ppa:openslide/openslide\n",
    "!apt install -y openslide-tools\n",
    "# !apt install python3-openslide\n",
    "!pip install openslide-python\n",
    "!pip install -U huggingface-hub"
   ]
  },
  {
   "cell_type": "markdown",
   "id": "898d6b60",
   "metadata": {
    "papermill": {
     "duration": 0.006155,
     "end_time": "2024-01-03T22:30:00.107100",
     "exception": false,
     "start_time": "2024-01-03T22:30:00.100945",
     "status": "completed"
    },
    "tags": []
   },
   "source": [
    "make turn all images into tiff and xml's into tiff and save them into another repo\n",
    "save thumbnails into a thumbnails repo for visual inspection\n"
   ]
  },
  {
   "cell_type": "code",
   "execution_count": 2,
   "id": "9abdc72b",
   "metadata": {
    "execution": {
     "iopub.execute_input": "2024-01-03T22:30:00.122372Z",
     "iopub.status.busy": "2024-01-03T22:30:00.121910Z",
     "iopub.status.idle": "2024-01-03T22:30:00.127266Z",
     "shell.execute_reply": "2024-01-03T22:30:00.126170Z"
    },
    "papermill": {
     "duration": 0.016726,
     "end_time": "2024-01-03T22:30:00.130281",
     "exception": false,
     "start_time": "2024-01-03T22:30:00.113555",
     "status": "completed"
    },
    "tags": []
   },
   "outputs": [],
   "source": [
    "raw_repo_id = \"ain3007-project/raw-dataset\"\n",
    "FINAL_IMAGE_SIZE = 2000\n",
    "thumbnail_repo_id = f\"ain3007-project/dataset-thumbnails-{FINAL_IMAGE_SIZE}\""
   ]
  },
  {
   "cell_type": "code",
   "execution_count": 3,
   "id": "6cb5b780",
   "metadata": {
    "execution": {
     "iopub.execute_input": "2024-01-03T22:30:00.145581Z",
     "iopub.status.busy": "2024-01-03T22:30:00.144792Z",
     "iopub.status.idle": "2024-01-03T22:30:01.008549Z",
     "shell.execute_reply": "2024-01-03T22:30:01.007216Z"
    },
    "papermill": {
     "duration": 0.875065,
     "end_time": "2024-01-03T22:30:01.011718",
     "exception": false,
     "start_time": "2024-01-03T22:30:00.136653",
     "status": "completed"
    },
    "tags": []
   },
   "outputs": [],
   "source": [
    "import openslide\n",
    "import huggingface_hub as hfh\n",
    "import numpy as np\n",
    "import cv2\n",
    "import pandas as pd\n",
    "from PIL import Image\n",
    "from tqdm.notebook import tqdm\n",
    "import shutil\n",
    "from xml.etree import ElementTree as ET\n",
    "from PIL import Image, ImageDraw\n",
    "import os"
   ]
  },
  {
   "cell_type": "code",
   "execution_count": 4,
   "id": "64af1359",
   "metadata": {
    "execution": {
     "iopub.execute_input": "2024-01-03T22:30:01.026425Z",
     "iopub.status.busy": "2024-01-03T22:30:01.025672Z",
     "iopub.status.idle": "2024-01-03T22:30:01.031856Z",
     "shell.execute_reply": "2024-01-03T22:30:01.030343Z"
    },
    "papermill": {
     "duration": 0.016127,
     "end_time": "2024-01-03T22:30:01.034141",
     "exception": false,
     "start_time": "2024-01-03T22:30:01.018014",
     "status": "completed"
    },
    "tags": []
   },
   "outputs": [],
   "source": [
    "os.environ['HF_HUB_DISABLE_PROGRESS_BARS'] = '1'\n",
    "# hfh.utils.disable_progress_bars() # this raises error for some reason"
   ]
  },
  {
   "cell_type": "code",
   "execution_count": 5,
   "id": "94598342",
   "metadata": {
    "execution": {
     "iopub.execute_input": "2024-01-03T22:30:01.048419Z",
     "iopub.status.busy": "2024-01-03T22:30:01.047965Z",
     "iopub.status.idle": "2024-01-03T22:30:01.711839Z",
     "shell.execute_reply": "2024-01-03T22:30:01.710345Z"
    },
    "papermill": {
     "duration": 0.674765,
     "end_time": "2024-01-03T22:30:01.714916",
     "exception": false,
     "start_time": "2024-01-03T22:30:01.040151",
     "status": "completed"
    },
    "tags": []
   },
   "outputs": [
    {
     "name": "stdout",
     "output_type": "stream",
     "text": [
      "Token will not been saved to git credential helper. Pass `add_to_git_credential=True` if you want to set the git credential as well.\n",
      "Token is valid (permission: write).\n",
      "Your token has been saved to /root/.cache/huggingface/token\n",
      "Login successful\n"
     ]
    }
   ],
   "source": [
    "hfh.login(\"INSERT TOKEN HERE\")"
   ]
  },
  {
   "cell_type": "code",
   "execution_count": 6,
   "id": "b0a27b2f",
   "metadata": {
    "execution": {
     "iopub.execute_input": "2024-01-03T22:30:01.731177Z",
     "iopub.status.busy": "2024-01-03T22:30:01.729638Z",
     "iopub.status.idle": "2024-01-03T22:30:01.957593Z",
     "shell.execute_reply": "2024-01-03T22:30:01.956694Z"
    },
    "papermill": {
     "duration": 0.238289,
     "end_time": "2024-01-03T22:30:01.959758",
     "exception": false,
     "start_time": "2024-01-03T22:30:01.721469",
     "status": "completed"
    },
    "tags": []
   },
   "outputs": [
    {
     "data": {
      "text/plain": [
       "RepoUrl('https://huggingface.co/datasets/ain3007-project/dataset-thumbnails-2000', endpoint='https://huggingface.co', repo_type='dataset', repo_id='ain3007-project/dataset-thumbnails-2000')"
      ]
     },
     "execution_count": 6,
     "metadata": {},
     "output_type": "execute_result"
    }
   ],
   "source": [
    "\n",
    "hfh.create_repo(repo_id=thumbnail_repo_id, repo_type=\"dataset\",private=True, exist_ok=True)"
   ]
  },
  {
   "cell_type": "code",
   "execution_count": 7,
   "id": "dc79789d",
   "metadata": {
    "execution": {
     "iopub.execute_input": "2024-01-03T22:30:01.974888Z",
     "iopub.status.busy": "2024-01-03T22:30:01.973975Z",
     "iopub.status.idle": "2024-01-03T22:30:03.542636Z",
     "shell.execute_reply": "2024-01-03T22:30:03.541721Z"
    },
    "papermill": {
     "duration": 1.578777,
     "end_time": "2024-01-03T22:30:03.544889",
     "exception": false,
     "start_time": "2024-01-03T22:30:01.966112",
     "status": "completed"
    },
    "tags": []
   },
   "outputs": [
    {
     "name": "stderr",
     "output_type": "stream",
     "text": [
      "/opt/conda/lib/python3.10/site-packages/huggingface_hub/utils/_deprecation.py:131: FutureWarning: 'list_files_info' (from 'huggingface_hub.hf_api') is deprecated and will be removed from version '0.23'. Use `list_repo_tree` and `get_paths_info` instead.\n",
      "  warnings.warn(warning_message, FutureWarning)\n"
     ]
    },
    {
     "data": {
      "text/plain": [
       "RepoFile(path='.gitattributes', size=33568, blob_id='8960f8cc72aabf94beb88eb49e8ca0a0f242795f', lfs=None, last_commit=None, security=None)"
      ]
     },
     "execution_count": 7,
     "metadata": {},
     "output_type": "execute_result"
    }
   ],
   "source": [
    "all_files_raw = list(hfh.list_files_info(repo_id=raw_repo_id, repo_type=\"dataset\"))\n",
    "all_files_raw[0]"
   ]
  },
  {
   "cell_type": "code",
   "execution_count": 8,
   "id": "8e353317",
   "metadata": {
    "execution": {
     "iopub.execute_input": "2024-01-03T22:30:03.561149Z",
     "iopub.status.busy": "2024-01-03T22:30:03.560689Z",
     "iopub.status.idle": "2024-01-03T22:30:03.568644Z",
     "shell.execute_reply": "2024-01-03T22:30:03.567351Z"
    },
    "papermill": {
     "duration": 0.018778,
     "end_time": "2024-01-03T22:30:03.570814",
     "exception": false,
     "start_time": "2024-01-03T22:30:03.552036",
     "status": "completed"
    },
    "tags": []
   },
   "outputs": [
    {
     "data": {
      "text/plain": [
       "(1457, 'Breast1__he/TCGA-A1-A0SM-01Z-00-DX1.svs')"
      ]
     },
     "execution_count": 8,
     "metadata": {},
     "output_type": "execute_result"
    }
   ],
   "source": [
    "file_names = list(map(lambda x: x.rfilename, all_files_raw))\n",
    "file_names.remove(\".gitattributes\")\n",
    "file_names.remove(\"Prostate1__he/._00a76bfbec239fd9f465d6581806ff42.tiff\")\n",
    "len(file_names), file_names[0]"
   ]
  },
  {
   "cell_type": "code",
   "execution_count": 9,
   "id": "01f75b1d",
   "metadata": {
    "execution": {
     "iopub.execute_input": "2024-01-03T22:30:03.587044Z",
     "iopub.status.busy": "2024-01-03T22:30:03.586631Z",
     "iopub.status.idle": "2024-01-03T22:30:03.594916Z",
     "shell.execute_reply": "2024-01-03T22:30:03.593827Z"
    },
    "papermill": {
     "duration": 0.019472,
     "end_time": "2024-01-03T22:30:03.597380",
     "exception": false,
     "start_time": "2024-01-03T22:30:03.577908",
     "status": "completed"
    },
    "tags": []
   },
   "outputs": [
    {
     "data": {
      "text/plain": [
       "(40,\n",
       " ('Breast1__he/TCGA-A1-A0SM-01Z-00-DX1*',\n",
       "  'Breast1__he/TCGA-A1-A0SM-01Z-00-DX1.svs',\n",
       "  'Breast1__he/TCGA-A1-A0SM-01Z-00-DX1.xml'))"
      ]
     },
     "execution_count": 9,
     "metadata": {},
     "output_type": "execute_result"
    }
   ],
   "source": [
    "breast1_files = [i.replace(\".svs\", \"\") for i in file_names if i.endswith(\"svs\")]\n",
    "breast1_files = [(i+\"*\", i+\".svs\", i+\".xml\") for i in breast1_files]\n",
    "len(breast1_files), breast1_files[0]"
   ]
  },
  {
   "cell_type": "code",
   "execution_count": 10,
   "id": "ef67d571",
   "metadata": {
    "execution": {
     "iopub.execute_input": "2024-01-03T22:30:03.613936Z",
     "iopub.status.busy": "2024-01-03T22:30:03.613490Z",
     "iopub.status.idle": "2024-01-03T22:30:03.621837Z",
     "shell.execute_reply": "2024-01-03T22:30:03.620621Z"
    },
    "papermill": {
     "duration": 0.019323,
     "end_time": "2024-01-03T22:30:03.623917",
     "exception": false,
     "start_time": "2024-01-03T22:30:03.604594",
     "status": "completed"
    },
    "tags": []
   },
   "outputs": [
    {
     "data": {
      "text/plain": [
       "(40,\n",
       " (('Breast2__he/1/*', 'Breast2__he/1.*'),\n",
       "  'Breast2__he/1.mrxs',\n",
       "  'Breast2__he/1.xml'))"
      ]
     },
     "execution_count": 10,
     "metadata": {},
     "output_type": "execute_result"
    }
   ],
   "source": [
    "breast2_files = [i.replace(\".mrxs\", \"\") for i in file_names if i.endswith(\"mrxs\")]\n",
    "breast2_files = [((i+\"/*\", i+\".*\"), i+\".mrxs\", i+\".xml\") for i in breast2_files]\n",
    "len(breast2_files), breast2_files[0]"
   ]
  },
  {
   "cell_type": "code",
   "execution_count": 11,
   "id": "db23d7d7",
   "metadata": {
    "execution": {
     "iopub.execute_input": "2024-01-03T22:30:03.640347Z",
     "iopub.status.busy": "2024-01-03T22:30:03.639648Z",
     "iopub.status.idle": "2024-01-03T22:30:03.647887Z",
     "shell.execute_reply": "2024-01-03T22:30:03.646718Z"
    },
    "papermill": {
     "duration": 0.019144,
     "end_time": "2024-01-03T22:30:03.650260",
     "exception": false,
     "start_time": "2024-01-03T22:30:03.631116",
     "status": "completed"
    },
    "tags": []
   },
   "outputs": [
    {
     "data": {
      "text/plain": [
       "(40,\n",
       " ('Breast3__ihc/04_HER2*',\n",
       "  'Breast3__ihc/04_HER2.ndpi',\n",
       "  'Breast3__ihc/04_HER2.xml'))"
      ]
     },
     "execution_count": 11,
     "metadata": {},
     "output_type": "execute_result"
    }
   ],
   "source": [
    "breast3_files = [i.replace(\".ndpi\", \"\") for i in file_names if i.endswith(\"ndpi\")]\n",
    "breast3_files = [(i+\"*\", i+\".ndpi\", i+\".xml\") for i in breast3_files]\n",
    "len(breast3_files), breast3_files[0]"
   ]
  },
  {
   "cell_type": "code",
   "execution_count": 12,
   "id": "3af4b048",
   "metadata": {
    "execution": {
     "iopub.execute_input": "2024-01-03T22:30:03.667589Z",
     "iopub.status.busy": "2024-01-03T22:30:03.667224Z",
     "iopub.status.idle": "2024-01-03T22:30:03.675570Z",
     "shell.execute_reply": "2024-01-03T22:30:03.673947Z"
    },
    "papermill": {
     "duration": 0.020171,
     "end_time": "2024-01-03T22:30:03.677908",
     "exception": false,
     "start_time": "2024-01-03T22:30:03.657737",
     "status": "completed"
    },
    "tags": []
   },
   "outputs": [
    {
     "data": {
      "text/plain": [
       "(40,\n",
       " ('LymphNode1__he/patient_002_node_1*',\n",
       "  'LymphNode1__he/patient_002_node_1.tif',\n",
       "  'LymphNode1__he/patient_002_node_1.xml'))"
      ]
     },
     "execution_count": 12,
     "metadata": {},
     "output_type": "execute_result"
    }
   ],
   "source": [
    "lymph1_files = [i.replace(\".tif\", \"\") for i in file_names if i.endswith(\"tif\")]\n",
    "lymph1_files = [(i+\"*\", i+\".tif\", i+\".xml\") for i in lymph1_files]\n",
    "len(lymph1_files), lymph1_files[0]"
   ]
  },
  {
   "cell_type": "code",
   "execution_count": 13,
   "id": "74be70b0",
   "metadata": {
    "execution": {
     "iopub.execute_input": "2024-01-03T22:30:03.695424Z",
     "iopub.status.busy": "2024-01-03T22:30:03.694379Z",
     "iopub.status.idle": "2024-01-03T22:30:03.702461Z",
     "shell.execute_reply": "2024-01-03T22:30:03.701597Z"
    },
    "papermill": {
     "duration": 0.019211,
     "end_time": "2024-01-03T22:30:03.704684",
     "exception": false,
     "start_time": "2024-01-03T22:30:03.685473",
     "status": "completed"
    },
    "tags": []
   },
   "outputs": [
    {
     "data": {
      "text/plain": [
       "(40,\n",
       " ('Prostate1__he/0005f7aaab2800f6170c399693a96917*',\n",
       "  'Prostate1__he/0005f7aaab2800f6170c399693a96917.tiff',\n",
       "  None))"
      ]
     },
     "execution_count": 13,
     "metadata": {},
     "output_type": "execute_result"
    }
   ],
   "source": [
    "prostate1_files = [i.replace(\".tiff\", \"\") for i in file_names if i.endswith(\"tiff\")]\n",
    "prostate1_files = [(i+\"*\", i+\".tiff\", None) for i in prostate1_files]\n",
    "len(prostate1_files), prostate1_files[0]"
   ]
  },
  {
   "cell_type": "code",
   "execution_count": 14,
   "id": "afe2c395",
   "metadata": {
    "execution": {
     "iopub.execute_input": "2024-01-03T22:30:03.722796Z",
     "iopub.status.busy": "2024-01-03T22:30:03.722022Z",
     "iopub.status.idle": "2024-01-03T22:30:04.728543Z",
     "shell.execute_reply": "2024-01-03T22:30:04.726572Z"
    },
    "papermill": {
     "duration": 1.019372,
     "end_time": "2024-01-03T22:30:04.731930",
     "exception": false,
     "start_time": "2024-01-03T22:30:03.712558",
     "status": "completed"
    },
    "tags": []
   },
   "outputs": [],
   "source": [
    "!mkdir images masks\n",
    "api = hfh.HfApi()"
   ]
  },
  {
   "cell_type": "code",
   "execution_count": 15,
   "id": "23330be8",
   "metadata": {
    "execution": {
     "iopub.execute_input": "2024-01-03T22:30:04.749423Z",
     "iopub.status.busy": "2024-01-03T22:30:04.748972Z",
     "iopub.status.idle": "2024-01-03T22:30:04.760917Z",
     "shell.execute_reply": "2024-01-03T22:30:04.759983Z"
    },
    "papermill": {
     "duration": 0.023724,
     "end_time": "2024-01-03T22:30:04.763473",
     "exception": false,
     "start_time": "2024-01-03T22:30:04.739749",
     "status": "completed"
    },
    "tags": []
   },
   "outputs": [],
   "source": [
    "def str2float(x):\n",
    "    return float(x.replace(\",\", \".\"))\n",
    "    \n",
    "def get_mask_from_xml(xml_path, image_size, image_shrinking_factor):\n",
    "    tree = ET.parse(xml_path)\n",
    "    root = tree.getroot()\n",
    "    image = Image.new(\"L\", image_size, \"white\")\n",
    "    draw = ImageDraw.Draw(image)\n",
    "    draw.fill = True\n",
    "    label2grayscale_color = {\"bg\": 0, \"tissue\": 1, \"tisuue\": 1}\n",
    "    for i in root[0]:\n",
    "        annotation_type = i.attrib[\"Type\"]\n",
    "        annotation_label = i.attrib[\"PartOfGroup\"]\n",
    "        # there is roi rectangle\n",
    "        if annotation_type not in [\"Spline\", \"Polygon\", \"Rectangle\"]:\n",
    "            print(f\"Annotation type must be either Spline, Rectangle or Polygon but found: {annotation_type}\")\n",
    "            continue\n",
    "            \n",
    "        if annotation_label not in label2grayscale_color:\n",
    "            print(f\"Annotation label must be either tissue or bg but found: {annotation_label}\")\n",
    "            continue\n",
    "        \n",
    "        coordinates = [(i.attrib[\"X\"], i.attrib[\"Y\"]) for i in i[0]]\n",
    "        coordinates = [(str2float(x), str2float(y)) for x, y in coordinates]\n",
    "        coordinates = [(x*image_shrinking_factor, y*image_shrinking_factor) for x, y in coordinates]\n",
    "        \n",
    "        if annotation_type in [\"Spline\", \"Polygon\"]:\n",
    "            draw.polygon(coordinates, fill=label2grayscale_color[annotation_label])\n",
    "        elif annotation_type == \"Rectangle\":\n",
    "            # ^\n",
    "            # |         point 1 is bigger than point 3\n",
    "            # | 0 1\n",
    "            # | 3 2 \n",
    "            # |------->\n",
    "            draw.rectangle([coordinates[3], coordinates[1]], fill=label2grayscale_color[annotation_label])\n",
    "#         if annotation_type == \"Spline\":\n",
    "#             draw.line(coordinates, fill=label2grayscale_color[annotation_label], width=1)\n",
    "#         elif annotation_type == \"Polygon\":\n",
    "#             draw.polygon(coordinates, fill=label2grayscale_color[annotation_label])\n",
    "    return image"
   ]
  },
  {
   "cell_type": "code",
   "execution_count": 16,
   "id": "c7f78ef1",
   "metadata": {
    "execution": {
     "iopub.execute_input": "2024-01-03T22:30:04.780748Z",
     "iopub.status.busy": "2024-01-03T22:30:04.779520Z",
     "iopub.status.idle": "2024-01-03T22:30:04.806425Z",
     "shell.execute_reply": "2024-01-03T22:30:04.805143Z"
    },
    "papermill": {
     "duration": 0.03825,
     "end_time": "2024-01-03T22:30:04.808849",
     "exception": false,
     "start_time": "2024-01-03T22:30:04.770599",
     "status": "completed"
    },
    "tags": []
   },
   "outputs": [
    {
     "data": {
      "text/html": [
       "<div>\n",
       "<style scoped>\n",
       "    .dataframe tbody tr th:only-of-type {\n",
       "        vertical-align: middle;\n",
       "    }\n",
       "\n",
       "    .dataframe tbody tr th {\n",
       "        vertical-align: top;\n",
       "    }\n",
       "\n",
       "    .dataframe thead th {\n",
       "        text-align: right;\n",
       "    }\n",
       "</style>\n",
       "<table border=\"1\" class=\"dataframe\">\n",
       "  <thead>\n",
       "    <tr style=\"text-align: right;\">\n",
       "      <th></th>\n",
       "      <th>image_id</th>\n",
       "      <th>file_name</th>\n",
       "      <th>source_dataset</th>\n",
       "      <th>image-dimension_x</th>\n",
       "      <th>image-dimension_y</th>\n",
       "      <th>image-levels</th>\n",
       "      <th>image-format</th>\n",
       "      <th>mask_shrink_factor</th>\n",
       "    </tr>\n",
       "  </thead>\n",
       "  <tbody>\n",
       "  </tbody>\n",
       "</table>\n",
       "</div>"
      ],
      "text/plain": [
       "Empty DataFrame\n",
       "Columns: [image_id, file_name, source_dataset, image-dimension_x, image-dimension_y, image-levels, image-format, mask_shrink_factor]\n",
       "Index: []"
      ]
     },
     "execution_count": 16,
     "metadata": {},
     "output_type": "execute_result"
    }
   ],
   "source": [
    "metadata_df = pd.DataFrame(columns=[\"image_id\", \"file_name\", \"source_dataset\", \"image-dimension_x\", \"image-dimension_y\", \"image-levels\", \"image-format\", \"mask_shrink_factor\"])\n",
    "metadata_df"
   ]
  },
  {
   "cell_type": "code",
   "execution_count": 17,
   "id": "0329835f",
   "metadata": {
    "execution": {
     "iopub.execute_input": "2024-01-03T22:30:04.826256Z",
     "iopub.status.busy": "2024-01-03T22:30:04.825598Z",
     "iopub.status.idle": "2024-01-03T22:30:04.836837Z",
     "shell.execute_reply": "2024-01-03T22:30:04.835920Z"
    },
    "papermill": {
     "duration": 0.023083,
     "end_time": "2024-01-03T22:30:04.839299",
     "exception": false,
     "start_time": "2024-01-03T22:30:04.816216",
     "status": "completed"
    },
    "tags": []
   },
   "outputs": [],
   "source": [
    "def process(file_list, image_idx, metadata_df, thumbnail_size=(2000, 2000), source_folder_name=\"Breast1__he\"):\n",
    "    for allow_pattern, image_path, xml_path in file_list:\n",
    "        path = hfh.snapshot_download(\n",
    "            repo_id=raw_repo_id, \n",
    "            repo_type=\"dataset\", \n",
    "            allow_patterns=allow_pattern,\n",
    "            cache_dir=\"hf_folder\",\n",
    "        )\n",
    "#         print(os.path.join(path, image_path))\n",
    "        try:\n",
    "            slide_file = openslide.OpenSlide(os.path.join(path, image_path))\n",
    "        except openslide.OpenSlideUnsupportedFormatError:\n",
    "            print(f\"image {image_path} didnt get recognized by OpenSlide. OpenSlideUnsupportedFormatError\")\n",
    "            image_idx += 1\n",
    "            shutil.rmtree('hf_folder')\n",
    "            continue\n",
    "        except openslide.OpenSlideError:\n",
    "            print(f\"image {image_path} didnt get recognized by OpenSlide. OpenSlideError\")\n",
    "            image_idx += 1\n",
    "            shutil.rmtree('hf_folder')\n",
    "            continue\n",
    "\n",
    "\n",
    "        thumbnail = slide_file.get_thumbnail(thumbnail_size)\n",
    "        thumbnail.save(f\"images/{image_idx}.png\")\n",
    "\n",
    "        image_shrinking_factor = min(thumbnail.size) / min(slide_file.dimensions)\n",
    "        \n",
    "        if xml_path is not None:\n",
    "            mask = get_mask_from_xml(\n",
    "                os.path.join(path, xml_path),\n",
    "                thumbnail.size,\n",
    "                image_shrinking_factor\n",
    "            )\n",
    "            mask.save(f\"masks/{image_idx}.png\")\n",
    "            \n",
    "            \n",
    "        metadata_df.loc[len(metadata_df)] = [\n",
    "            image_idx,\n",
    "            image_path,\n",
    "            source_folder_name,\n",
    "            slide_file.dimensions[0],\n",
    "            slide_file.dimensions[1],\n",
    "            slide_file.level_count,\n",
    "            slide_file.properties[\"openslide.vendor\"],\n",
    "            image_shrinking_factor,\n",
    "        ]\n",
    "            \n",
    "        shutil.rmtree('hf_folder')\n",
    "        print(f\"finished {image_idx} image of {source_folder_name}\")\n",
    "        image_idx += 1\n",
    "        \n",
    "    return image_idx, metadata_df"
   ]
  },
  {
   "cell_type": "code",
   "execution_count": 18,
   "id": "c1784bc7",
   "metadata": {
    "execution": {
     "iopub.execute_input": "2024-01-03T22:30:04.856748Z",
     "iopub.status.busy": "2024-01-03T22:30:04.856155Z",
     "iopub.status.idle": "2024-01-03T22:56:27.227941Z",
     "shell.execute_reply": "2024-01-03T22:56:27.226486Z"
    },
    "papermill": {
     "duration": 1582.39328,
     "end_time": "2024-01-03T22:56:27.239990",
     "exception": false,
     "start_time": "2024-01-03T22:30:04.846710",
     "status": "completed"
    },
    "tags": []
   },
   "outputs": [
    {
     "name": "stdout",
     "output_type": "stream",
     "text": [
      "finished 0 image of Breast1\n",
      "finished 1 image of Breast1\n",
      "finished 2 image of Breast1\n",
      "finished 3 image of Breast1\n",
      "finished 4 image of Breast1\n",
      "finished 5 image of Breast1\n",
      "finished 6 image of Breast1\n",
      "finished 7 image of Breast1\n",
      "finished 8 image of Breast1\n",
      "finished 9 image of Breast1\n",
      "finished 10 image of Breast1\n",
      "finished 11 image of Breast1\n",
      "finished 12 image of Breast1\n",
      "finished 13 image of Breast1\n",
      "finished 14 image of Breast1\n",
      "finished 15 image of Breast1\n",
      "finished 16 image of Breast1\n",
      "finished 17 image of Breast1\n",
      "finished 18 image of Breast1\n",
      "finished 19 image of Breast1\n",
      "finished 20 image of Breast1\n",
      "finished 21 image of Breast1\n",
      "finished 22 image of Breast1\n",
      "finished 23 image of Breast1\n",
      "finished 24 image of Breast1\n",
      "finished 25 image of Breast1\n",
      "finished 26 image of Breast1\n",
      "finished 27 image of Breast1\n",
      "finished 28 image of Breast1\n",
      "finished 29 image of Breast1\n",
      "finished 30 image of Breast1\n",
      "finished 31 image of Breast1\n",
      "finished 32 image of Breast1\n",
      "finished 33 image of Breast1\n",
      "finished 34 image of Breast1\n",
      "finished 35 image of Breast1\n",
      "finished 36 image of Breast1\n",
      "finished 37 image of Breast1\n",
      "finished 38 image of Breast1\n",
      "finished 39 image of Breast1\n"
     ]
    },
    {
     "data": {
      "text/plain": [
       "40"
      ]
     },
     "execution_count": 18,
     "metadata": {},
     "output_type": "execute_result"
    }
   ],
   "source": [
    "image_idx = 0\n",
    "image_idx, metadata_df = process(breast1_files,   image_idx, metadata_df, thumbnail_size=(FINAL_IMAGE_SIZE, FINAL_IMAGE_SIZE), source_folder_name=\"Breast1\")\n",
    "image_idx"
   ]
  },
  {
   "cell_type": "code",
   "execution_count": 19,
   "id": "c07a923a",
   "metadata": {
    "execution": {
     "iopub.execute_input": "2024-01-03T22:56:27.264081Z",
     "iopub.status.busy": "2024-01-03T22:56:27.263590Z",
     "iopub.status.idle": "2024-01-03T23:35:33.578052Z",
     "shell.execute_reply": "2024-01-03T23:35:33.576574Z"
    },
    "papermill": {
     "duration": 2346.329887,
     "end_time": "2024-01-03T23:35:33.580374",
     "exception": false,
     "start_time": "2024-01-03T22:56:27.250487",
     "status": "completed"
    },
    "tags": []
   },
   "outputs": [
    {
     "name": "stdout",
     "output_type": "stream",
     "text": [
      "finished 40 image of Breast2\n",
      "finished 41 image of Breast2\n",
      "finished 42 image of Breast2\n",
      "finished 43 image of Breast2\n",
      "finished 44 image of Breast2\n",
      "finished 45 image of Breast2\n",
      "finished 46 image of Breast2\n",
      "finished 47 image of Breast2\n",
      "finished 48 image of Breast2\n",
      "finished 49 image of Breast2\n",
      "finished 50 image of Breast2\n",
      "finished 51 image of Breast2\n",
      "finished 52 image of Breast2\n",
      "Annotation label must be either tissue or bg but found: roi\n",
      "finished 53 image of Breast2\n",
      "finished 54 image of Breast2\n",
      "finished 55 image of Breast2\n",
      "finished 56 image of Breast2\n",
      "finished 57 image of Breast2\n",
      "finished 58 image of Breast2\n",
      "finished 59 image of Breast2\n",
      "finished 60 image of Breast2\n",
      "finished 61 image of Breast2\n",
      "finished 62 image of Breast2\n",
      "finished 63 image of Breast2\n",
      "finished 64 image of Breast2\n",
      "finished 65 image of Breast2\n",
      "finished 66 image of Breast2\n",
      "finished 67 image of Breast2\n",
      "finished 68 image of Breast2\n",
      "finished 69 image of Breast2\n",
      "finished 70 image of Breast2\n",
      "finished 71 image of Breast2\n",
      "finished 72 image of Breast2\n",
      "finished 73 image of Breast2\n",
      "finished 74 image of Breast2\n",
      "finished 75 image of Breast2\n",
      "finished 76 image of Breast2\n",
      "finished 77 image of Breast2\n",
      "finished 78 image of Breast2\n",
      "finished 79 image of Breast2\n"
     ]
    },
    {
     "data": {
      "text/plain": [
       "80"
      ]
     },
     "execution_count": 19,
     "metadata": {},
     "output_type": "execute_result"
    }
   ],
   "source": [
    "image_idx, metadata_df = process(breast2_files,   image_idx, metadata_df, thumbnail_size=(FINAL_IMAGE_SIZE, FINAL_IMAGE_SIZE), source_folder_name=\"Breast2\")\n",
    "image_idx"
   ]
  },
  {
   "cell_type": "code",
   "execution_count": 20,
   "id": "a30fb98d",
   "metadata": {
    "execution": {
     "iopub.execute_input": "2024-01-03T23:35:33.607938Z",
     "iopub.status.busy": "2024-01-03T23:35:33.607427Z",
     "iopub.status.idle": "2024-01-03T23:49:19.307760Z",
     "shell.execute_reply": "2024-01-03T23:49:19.306257Z"
    },
    "papermill": {
     "duration": 825.733267,
     "end_time": "2024-01-03T23:49:19.326448",
     "exception": false,
     "start_time": "2024-01-03T23:35:33.593181",
     "status": "completed"
    },
    "tags": []
   },
   "outputs": [
    {
     "name": "stdout",
     "output_type": "stream",
     "text": [
      "finished 80 image of Breast3\n",
      "finished 81 image of Breast3\n",
      "finished 82 image of Breast3\n",
      "finished 83 image of Breast3\n",
      "finished 84 image of Breast3\n",
      "finished 85 image of Breast3\n",
      "finished 86 image of Breast3\n",
      "finished 87 image of Breast3\n",
      "finished 88 image of Breast3\n",
      "finished 89 image of Breast3\n",
      "finished 90 image of Breast3\n",
      "finished 91 image of Breast3\n",
      "finished 92 image of Breast3\n",
      "finished 93 image of Breast3\n",
      "finished 94 image of Breast3\n",
      "finished 95 image of Breast3\n",
      "finished 96 image of Breast3\n",
      "finished 97 image of Breast3\n",
      "finished 98 image of Breast3\n",
      "finished 99 image of Breast3\n",
      "finished 100 image of Breast3\n",
      "finished 101 image of Breast3\n",
      "finished 102 image of Breast3\n",
      "finished 103 image of Breast3\n",
      "finished 104 image of Breast3\n",
      "finished 105 image of Breast3\n",
      "finished 106 image of Breast3\n",
      "finished 107 image of Breast3\n",
      "finished 108 image of Breast3\n",
      "finished 109 image of Breast3\n",
      "finished 110 image of Breast3\n",
      "finished 111 image of Breast3\n",
      "finished 112 image of Breast3\n",
      "finished 113 image of Breast3\n",
      "finished 114 image of Breast3\n",
      "finished 115 image of Breast3\n",
      "finished 116 image of Breast3\n",
      "finished 117 image of Breast3\n",
      "finished 118 image of Breast3\n",
      "finished 119 image of Breast3\n"
     ]
    },
    {
     "data": {
      "text/plain": [
       "120"
      ]
     },
     "execution_count": 20,
     "metadata": {},
     "output_type": "execute_result"
    }
   ],
   "source": [
    "image_idx, metadata_df = process(breast3_files,   image_idx, metadata_df, thumbnail_size=(FINAL_IMAGE_SIZE, FINAL_IMAGE_SIZE), source_folder_name=\"Breast3\")\n",
    "image_idx"
   ]
  },
  {
   "cell_type": "code",
   "execution_count": 21,
   "id": "8d5910d8",
   "metadata": {
    "execution": {
     "iopub.execute_input": "2024-01-03T23:49:19.361331Z",
     "iopub.status.busy": "2024-01-03T23:49:19.360906Z",
     "iopub.status.idle": "2024-01-04T00:37:55.961992Z",
     "shell.execute_reply": "2024-01-04T00:37:55.960848Z"
    },
    "papermill": {
     "duration": 2916.640559,
     "end_time": "2024-01-04T00:37:55.983656",
     "exception": false,
     "start_time": "2024-01-03T23:49:19.343097",
     "status": "completed"
    },
    "tags": []
   },
   "outputs": [
    {
     "name": "stdout",
     "output_type": "stream",
     "text": [
      "Annotation label must be either tissue or bg but found: roi\n",
      "finished 120 image of Lymph1\n",
      "Annotation label must be either tissue or bg but found: roi\n",
      "finished 121 image of Lymph1\n",
      "Annotation label must be either tissue or bg but found: roi\n",
      "finished 122 image of Lymph1\n",
      "Annotation label must be either tissue or bg but found: roi\n",
      "finished 123 image of Lymph1\n",
      "Annotation label must be either tissue or bg but found: roi\n",
      "finished 124 image of Lymph1\n",
      "Annotation label must be either tissue or bg but found: roi\n",
      "finished 125 image of Lymph1\n",
      "Annotation label must be either tissue or bg but found: roi\n",
      "finished 126 image of Lymph1\n",
      "Annotation label must be either tissue or bg but found: roi\n",
      "finished 127 image of Lymph1\n",
      "image LymphNode1__he/patient_044_node_0.tif didnt get recognized by OpenSlide. OpenSlideUnsupportedFormatError\n",
      "Annotation label must be either tissue or bg but found: roi\n",
      "finished 129 image of Lymph1\n",
      "Annotation label must be either tissue or bg but found: roi\n",
      "finished 130 image of Lymph1\n",
      "Annotation label must be either tissue or bg but found: roi\n",
      "finished 131 image of Lymph1\n",
      "Annotation label must be either tissue or bg but found: roi\n",
      "finished 132 image of Lymph1\n",
      "Annotation label must be either tissue or bg but found: roi\n",
      "finished 133 image of Lymph1\n",
      "Annotation label must be either tissue or bg but found: roi\n",
      "finished 134 image of Lymph1\n",
      "Annotation label must be either tissue or bg but found: roi\n",
      "finished 135 image of Lymph1\n",
      "Annotation label must be either tissue or bg but found: roi\n",
      "finished 136 image of Lymph1\n",
      "Annotation label must be either tissue or bg but found: roi\n",
      "finished 137 image of Lymph1\n",
      "Annotation label must be either tissue or bg but found: roi\n",
      "finished 138 image of Lymph1\n",
      "Annotation label must be either tissue or bg but found: roi\n",
      "finished 139 image of Lymph1\n",
      "Annotation label must be either tissue or bg but found: roi\n",
      "finished 140 image of Lymph1\n",
      "Annotation label must be either tissue or bg but found: roi\n",
      "finished 141 image of Lymph1\n",
      "Annotation label must be either tissue or bg but found: roi\n",
      "finished 142 image of Lymph1\n",
      "image LymphNode1__he/patient_069_node_0.tif didnt get recognized by OpenSlide. OpenSlideUnsupportedFormatError\n",
      "Annotation label must be either tissue or bg but found: roi\n",
      "finished 144 image of Lymph1\n",
      "Annotation label must be either tissue or bg but found: roi\n",
      "finished 145 image of Lymph1\n",
      "Annotation label must be either tissue or bg but found: roi\n",
      "finished 146 image of Lymph1\n",
      "Annotation label must be either tissue or bg but found: roi\n",
      "finished 147 image of Lymph1\n",
      "image LymphNode1__he/patient_078_node_0.tif didnt get recognized by OpenSlide. OpenSlideUnsupportedFormatError\n",
      "Annotation label must be either tissue or bg but found: roi\n",
      "finished 149 image of Lymph1\n",
      "Annotation label must be either tissue or bg but found: roi\n",
      "finished 150 image of Lymph1\n",
      "Annotation label must be either tissue or bg but found: roi\n",
      "finished 151 image of Lymph1\n",
      "Annotation label must be either tissue or bg but found: roi\n",
      "finished 152 image of Lymph1\n",
      "Annotation label must be either tissue or bg but found: roi\n",
      "finished 153 image of Lymph1\n",
      "Annotation label must be either tissue or bg but found: roi\n",
      "finished 154 image of Lymph1\n",
      "Annotation label must be either tissue or bg but found: roi\n",
      "finished 155 image of Lymph1\n"
     ]
    },
    {
     "name": "stderr",
     "output_type": "stream",
     "text": [
      "hf_folder/datasets--ain3007-project--raw-dataset/snapshots/657934f16e042b975b5aba440fd064fad5cbdfdc/LymphNode1__he/patient_092_node_0.tif: Failed to allocate memory for to read TIFF directory (0 elements of 20 bytes each).\n",
      "TIFFReadDirectory: Failed to read directory at offset 871004154.\n"
     ]
    },
    {
     "name": "stdout",
     "output_type": "stream",
     "text": [
      "image LymphNode1__he/patient_092_node_0.tif didnt get recognized by OpenSlide. OpenSlideError\n",
      "image LymphNode1__he/patient_096_node_0.tif didnt get recognized by OpenSlide. OpenSlideUnsupportedFormatError\n"
     ]
    },
    {
     "name": "stderr",
     "output_type": "stream",
     "text": [
      "hf_folder/datasets--ain3007-project--raw-dataset/snapshots/657934f16e042b975b5aba440fd064fad5cbdfdc/LymphNode1__he/patient_097_node_0.tif: Failed to allocate memory for to read TIFF directory (0 elements of 20 bytes each).\n",
      "TIFFReadDirectory: Failed to read directory at offset 444340392.\n"
     ]
    },
    {
     "name": "stdout",
     "output_type": "stream",
     "text": [
      "image LymphNode1__he/patient_097_node_0.tif didnt get recognized by OpenSlide. OpenSlideError\n",
      "image LymphNode1__he/patient_098_node_0.tif didnt get recognized by OpenSlide. OpenSlideUnsupportedFormatError\n"
     ]
    },
    {
     "data": {
      "text/plain": [
       "160"
      ]
     },
     "execution_count": 21,
     "metadata": {},
     "output_type": "execute_result"
    }
   ],
   "source": [
    "image_idx, metadata_df = process(lymph1_files,    image_idx, metadata_df, thumbnail_size=(FINAL_IMAGE_SIZE, FINAL_IMAGE_SIZE), source_folder_name=\"Lymph1\")\n",
    "image_idx"
   ]
  },
  {
   "cell_type": "code",
   "execution_count": 22,
   "id": "d1b1af7d",
   "metadata": {
    "execution": {
     "iopub.execute_input": "2024-01-04T00:37:56.026081Z",
     "iopub.status.busy": "2024-01-04T00:37:56.024589Z",
     "iopub.status.idle": "2024-01-04T00:41:28.202344Z",
     "shell.execute_reply": "2024-01-04T00:41:28.200941Z"
    },
    "papermill": {
     "duration": 212.202098,
     "end_time": "2024-01-04T00:41:28.205204",
     "exception": false,
     "start_time": "2024-01-04T00:37:56.003106",
     "status": "completed"
    },
    "tags": []
   },
   "outputs": [
    {
     "name": "stdout",
     "output_type": "stream",
     "text": [
      "finished 160 image of Prostate1\n",
      "finished 161 image of Prostate1\n",
      "finished 162 image of Prostate1\n",
      "finished 163 image of Prostate1\n",
      "finished 164 image of Prostate1\n",
      "image Prostate1__he/003046e27c8ead3e3db155780dc5498e.tiff didnt get recognized by OpenSlide. OpenSlideUnsupportedFormatError\n",
      "finished 166 image of Prostate1\n",
      "finished 167 image of Prostate1\n",
      "finished 168 image of Prostate1\n",
      "finished 169 image of Prostate1\n",
      "image Prostate1__he/004391d48d58b18156f811087cd38abf.tiff didnt get recognized by OpenSlide. OpenSlideUnsupportedFormatError\n",
      "finished 171 image of Prostate1\n",
      "finished 172 image of Prostate1\n",
      "finished 173 image of Prostate1\n",
      "finished 174 image of Prostate1\n",
      "finished 175 image of Prostate1\n",
      "finished 176 image of Prostate1\n",
      "finished 177 image of Prostate1\n",
      "finished 178 image of Prostate1\n",
      "finished 179 image of Prostate1\n",
      "finished 180 image of Prostate1\n",
      "finished 181 image of Prostate1\n",
      "finished 182 image of Prostate1\n",
      "image Prostate1__he/0125392d1963a6b69a37f9e30333d68a.tiff didnt get recognized by OpenSlide. OpenSlideUnsupportedFormatError\n",
      "finished 184 image of Prostate1\n",
      "finished 185 image of Prostate1\n",
      "image Prostate1__he/01699a34381500901408ba3258f5c61a.tiff didnt get recognized by OpenSlide. OpenSlideUnsupportedFormatError\n",
      "finished 187 image of Prostate1\n",
      "finished 188 image of Prostate1\n",
      "finished 189 image of Prostate1\n",
      "finished 190 image of Prostate1\n",
      "finished 191 image of Prostate1\n",
      "finished 192 image of Prostate1\n",
      "finished 193 image of Prostate1\n",
      "finished 194 image of Prostate1\n",
      "finished 195 image of Prostate1\n",
      "finished 196 image of Prostate1\n",
      "finished 197 image of Prostate1\n",
      "finished 198 image of Prostate1\n",
      "finished 199 image of Prostate1\n"
     ]
    },
    {
     "data": {
      "text/plain": [
       "200"
      ]
     },
     "execution_count": 22,
     "metadata": {},
     "output_type": "execute_result"
    }
   ],
   "source": [
    "image_idx, metadata_df = process(prostate1_files, image_idx, metadata_df, thumbnail_size=(FINAL_IMAGE_SIZE, FINAL_IMAGE_SIZE), source_folder_name=\"Prostate1\")\n",
    "image_idx"
   ]
  },
  {
   "cell_type": "code",
   "execution_count": 23,
   "id": "4a2faef3",
   "metadata": {
    "execution": {
     "iopub.execute_input": "2024-01-04T00:41:28.252706Z",
     "iopub.status.busy": "2024-01-04T00:41:28.251576Z",
     "iopub.status.idle": "2024-01-04T00:41:28.256615Z",
     "shell.execute_reply": "2024-01-04T00:41:28.255744Z"
    },
    "papermill": {
     "duration": 0.030691,
     "end_time": "2024-01-04T00:41:28.258392",
     "exception": false,
     "start_time": "2024-01-04T00:41:28.227701",
     "status": "completed"
    },
    "tags": []
   },
   "outputs": [],
   "source": [
    "# api.upload_folder(\n",
    "#     folder_path=\"masks\",\n",
    "#     path_in_repo=\"masks\",\n",
    "#     repo_id=thumbnail_repo_id,\n",
    "#     repo_type=\"dataset\",\n",
    "# )\n",
    "\n",
    "# api.upload_folder(\n",
    "#     folder_path=\"images\",\n",
    "#     path_in_repo=\"images\",\n",
    "#     repo_id=thumbnail_repo_id,\n",
    "#     repo_type=\"dataset\",\n",
    "# )"
   ]
  },
  {
   "cell_type": "code",
   "execution_count": 24,
   "id": "bcc0e72d",
   "metadata": {
    "execution": {
     "iopub.execute_input": "2024-01-04T00:41:28.304683Z",
     "iopub.status.busy": "2024-01-04T00:41:28.303992Z",
     "iopub.status.idle": "2024-01-04T00:41:28.343193Z",
     "shell.execute_reply": "2024-01-04T00:41:28.342235Z"
    },
    "papermill": {
     "duration": 0.065229,
     "end_time": "2024-01-04T00:41:28.345744",
     "exception": false,
     "start_time": "2024-01-04T00:41:28.280515",
     "status": "completed"
    },
    "tags": []
   },
   "outputs": [],
   "source": [
    "metadata_df.to_csv(\"metadata.csv\", index=False)"
   ]
  },
  {
   "cell_type": "code",
   "execution_count": 25,
   "id": "f881b9c1",
   "metadata": {
    "execution": {
     "iopub.execute_input": "2024-01-04T00:41:28.393854Z",
     "iopub.status.busy": "2024-01-04T00:41:28.392574Z",
     "iopub.status.idle": "2024-01-04T00:42:10.400800Z",
     "shell.execute_reply": "2024-01-04T00:42:10.398881Z"
    },
    "papermill": {
     "duration": 42.068666,
     "end_time": "2024-01-04T00:42:10.437423",
     "exception": false,
     "start_time": "2024-01-04T00:41:28.368757",
     "status": "completed"
    },
    "tags": []
   },
   "outputs": [
    {
     "name": "stdout",
     "output_type": "stream",
     "text": [
      "  adding: images/ (stored 0%)\r\n",
      "  adding: images/76.png (deflated 5%)\r\n",
      "  adding: images/96.png (deflated 0%)\r\n",
      "  adding: images/7.png (deflated 1%)\r\n",
      "  adding: images/173.png (deflated 4%)\r\n",
      "  adding: images/2.png (deflated 0%)\r\n",
      "  adding: images/33.png (deflated 0%)\r\n",
      "  adding: images/138.png (deflated 3%)\r\n",
      "  adding: images/199.png (deflated 5%)\r\n",
      "  adding: images/49.png (deflated 4%)\r\n",
      "  adding: images/149.png (deflated 0%)\r\n",
      "  adding: images/82.png (deflated 0%)\r\n",
      "  adding: images/18.png (deflated 0%)\r\n",
      "  adding: images/139.png (deflated 1%)\r\n",
      "  adding: images/1.png (deflated 0%)\r\n",
      "  adding: images/58.png (deflated 5%)\r\n",
      "  adding: images/99.png (deflated 0%)\r\n",
      "  adding: images/90.png (deflated 0%)\r\n",
      "  adding: images/27.png (deflated 0%)\r\n",
      "  adding: images/80.png (deflated 0%)\r\n",
      "  adding: images/36.png (deflated 0%)\r\n",
      "  adding: images/45.png (deflated 3%)\r\n",
      "  adding: images/197.png (deflated 4%)\r\n",
      "  adding: images/105.png (deflated 0%)\r\n",
      "  adding: images/97.png (deflated 1%)\r\n",
      "  adding: images/118.png (deflated 0%)\r\n",
      "  adding: images/67.png (deflated 23%)\r\n",
      "  adding: images/198.png (deflated 3%)\r\n",
      "  adding: images/8.png (deflated 0%)\r\n",
      "  adding: images/101.png (deflated 1%)\r\n",
      "  adding: images/172.png (deflated 4%)\r\n",
      "  adding: images/87.png (deflated 0%)\r\n",
      "  adding: images/136.png (deflated 1%)\r\n",
      "  adding: images/65.png (deflated 14%)\r\n",
      "  adding: images/10.png (deflated 0%)\r\n",
      "  adding: images/161.png (deflated 3%)\r\n",
      "  adding: images/122.png (deflated 2%)\r\n",
      "  adding: images/57.png (deflated 2%)\r\n",
      "  adding: images/154.png (deflated 1%)\r\n",
      "  adding: images/191.png (deflated 4%)\r\n",
      "  adding: images/188.png (deflated 3%)\r\n",
      "  adding: images/56.png (deflated 3%)\r\n",
      "  adding: images/9.png (deflated 0%)\r\n",
      "  adding: images/50.png (deflated 3%)\r\n",
      "  adding: images/135.png (deflated 0%)\r\n",
      "  adding: images/181.png (deflated 4%)\r\n",
      "  adding: images/93.png (deflated 0%)\r\n",
      "  adding: images/24.png (deflated 0%)\r\n",
      "  adding: images/38.png (deflated 0%)\r\n",
      "  adding: images/54.png (deflated 3%)\r\n",
      "  adding: images/116.png (deflated 0%)\r\n",
      "  adding: images/152.png (deflated 1%)\r\n",
      "  adding: images/6.png (deflated 0%)\r\n",
      "  adding: images/180.png (deflated 3%)\r\n",
      "  adding: images/60.png (deflated 10%)\r\n",
      "  adding: images/79.png (deflated 21%)\r\n",
      "  adding: images/103.png (deflated 0%)\r\n",
      "  adding: images/37.png (deflated 0%)\r\n",
      "  adding: images/5.png (deflated 0%)\r\n",
      "  adding: images/145.png (deflated 3%)\r\n",
      "  adding: images/4.png (deflated 0%)\r\n",
      "  adding: images/120.png (deflated 1%)\r\n",
      "  adding: images/115.png (deflated 0%)\r\n",
      "  adding: images/155.png (deflated 2%)\r\n",
      "  adding: images/48.png (deflated 9%)\r\n",
      "  adding: images/14.png (deflated 0%)\r\n",
      "  adding: images/151.png (deflated 1%)\r\n",
      "  adding: images/169.png (deflated 4%)\r\n",
      "  adding: images/73.png (deflated 8%)\r\n",
      "  adding: images/174.png (deflated 4%)\r\n",
      "  adding: images/53.png (deflated 3%)\r\n",
      "  adding: images/77.png (deflated 2%)\r\n",
      "  adding: images/168.png (deflated 4%)\r\n",
      "  adding: images/32.png (deflated 0%)\r\n",
      "  adding: images/26.png (deflated 0%)\r\n",
      "  adding: images/171.png (deflated 2%)\r\n",
      "  adding: images/117.png (deflated 1%)\r\n",
      "  adding: images/179.png (deflated 4%)\r\n",
      "  adding: images/41.png (deflated 3%)\r\n",
      "  adding: images/102.png (deflated 1%)\r\n",
      "  adding: images/119.png (deflated 1%)\r\n",
      "  adding: images/125.png (deflated 4%)\r\n",
      "  adding: images/89.png (deflated 0%)\r\n",
      "  adding: images/189.png (deflated 4%)\r\n",
      "  adding: images/132.png (deflated 0%)\r\n",
      "  adding: images/113.png (deflated 0%)\r\n",
      "  adding: images/190.png (deflated 3%)\r\n",
      "  adding: images/55.png (deflated 3%)\r\n",
      "  adding: images/88.png (deflated 0%)\r\n",
      "  adding: images/85.png (deflated 0%)\r\n",
      "  adding: images/153.png (deflated 1%)\r\n",
      "  adding: images/121.png (deflated 0%)\r\n",
      "  adding: images/51.png (deflated 3%)\r\n",
      "  adding: images/52.png (deflated 3%)\r\n",
      "  adding: images/69.png (deflated 3%)\r\n",
      "  adding: images/70.png (deflated 3%)\r\n",
      "  adding: images/78.png (deflated 15%)\r\n",
      "  adding: images/147.png (deflated 2%)\r\n",
      "  adding: images/31.png (deflated 0%)\r\n",
      "  adding: images/94.png (deflated 1%)\r\n",
      "  adding: images/131.png (deflated 0%)\r\n",
      "  adding: images/47.png (deflated 9%)\r\n",
      "  adding: images/21.png (deflated 0%)\r\n",
      "  adding: images/127.png (deflated 1%)\r\n",
      "  adding: images/123.png (deflated 1%)\r\n",
      "  adding: images/95.png (deflated 0%)\r\n",
      "  adding: images/107.png (deflated 1%)\r\n",
      "  adding: images/68.png (deflated 9%)\r\n",
      "  adding: images/134.png (deflated 0%)\r\n",
      "  adding: images/17.png (deflated 0%)\r\n",
      "  adding: images/192.png (deflated 2%)\r\n",
      "  adding: images/176.png (deflated 4%)\r\n",
      "  adding: images/59.png (deflated 10%)\r\n",
      "  adding: images/83.png (deflated 0%)\r\n",
      "  adding: images/25.png (deflated 0%)\r\n",
      "  adding: images/140.png (deflated 3%)\r\n",
      "  adding: images/63.png (deflated 9%)\r\n",
      "  adding: images/64.png (deflated 6%)\r\n",
      "  adding: images/160.png (deflated 5%)\r\n",
      "  adding: images/39.png (deflated 1%)\r\n",
      "  adding: images/106.png (deflated 0%)\r\n",
      "  adding: images/126.png (deflated 0%)\r\n",
      "  adding: images/144.png (deflated 1%)\r\n",
      "  adding: images/74.png (deflated 3%)\r\n",
      "  adding: images/195.png (deflated 5%)\r\n",
      "  adding: images/164.png (deflated 4%)\r\n",
      "  adding: images/98.png (deflated 0%)\r\n",
      "  adding: images/193.png (deflated 2%)\r\n",
      "  adding: images/72.png (deflated 3%)\r\n",
      "  adding: images/114.png (deflated 2%)\r\n",
      "  adding: images/19.png (deflated 0%)\r\n",
      "  adding: images/104.png (deflated 0%)\r\n",
      "  adding: images/129.png (deflated 0%)\r\n",
      "  adding: images/137.png (deflated 0%)\r\n",
      "  adding: images/92.png (deflated 1%)\r\n",
      "  adding: images/13.png (deflated 0%)\r\n",
      "  adding: images/112.png (deflated 1%)\r\n",
      "  adding: images/66.png (deflated 3%)\r\n",
      "  adding: images/44.png (deflated 3%)\r\n",
      "  adding: images/20.png (deflated 0%)\r\n",
      "  adding: images/185.png (deflated 4%)\r\n",
      "  adding: images/142.png (deflated 1%)\r\n",
      "  adding: images/163.png (deflated 2%)\r\n",
      "  adding: images/3.png (deflated 0%)\r\n",
      "  adding: images/100.png (deflated 0%)\r\n",
      "  adding: images/75.png (deflated 2%)\r\n",
      "  adding: images/166.png (deflated 6%)\r\n",
      "  adding: images/12.png (deflated 0%)\r\n",
      "  adding: images/146.png (deflated 1%)\r\n",
      "  adding: images/133.png (deflated 0%)\r\n",
      "  adding: images/62.png (deflated 18%)\r\n",
      "  adding: images/0.png (deflated 0%)\r\n",
      "  adding: images/81.png (deflated 0%)\r\n",
      "  adding: images/61.png (deflated 3%)\r\n",
      "  adding: images/167.png (deflated 3%)\r\n",
      "  adding: images/178.png (deflated 4%)\r\n",
      "  adding: images/111.png (deflated 0%)\r\n",
      "  adding: images/187.png (deflated 5%)\r\n",
      "  adding: images/150.png (deflated 1%)\r\n",
      "  adding: images/177.png (deflated 4%)\r\n",
      "  adding: images/43.png (deflated 10%)\r\n",
      "  adding: images/71.png (deflated 10%)\r\n",
      "  adding: images/34.png (deflated 0%)\r\n",
      "  adding: images/46.png (deflated 7%)\r\n",
      "  adding: images/42.png (deflated 3%)\r\n",
      "  adding: images/22.png (deflated 0%)\r\n",
      "  adding: images/23.png (deflated 0%)\r\n",
      "  adding: images/130.png (deflated 0%)\r\n",
      "  adding: images/15.png (deflated 0%)\r\n",
      "  adding: images/35.png (deflated 0%)\r\n",
      "  adding: images/184.png (deflated 4%)\r\n",
      "  adding: images/124.png (deflated 1%)\r\n",
      "  adding: images/194.png (deflated 3%)\r\n",
      "  adding: images/162.png (deflated 3%)\r\n",
      "  adding: images/84.png (deflated 0%)\r\n",
      "  adding: images/109.png (deflated 0%)\r\n",
      "  adding: images/110.png (deflated 0%)\r\n",
      "  adding: images/108.png (deflated 0%)\r\n",
      "  adding: images/175.png (deflated 3%)\r\n",
      "  adding: images/30.png (deflated 0%)\r\n",
      "  adding: images/141.png (deflated 1%)\r\n",
      "  adding: images/182.png (deflated 3%)\r\n",
      "  adding: images/91.png (deflated 0%)\r\n",
      "  adding: images/16.png (deflated 0%)\r\n",
      "  adding: images/11.png (deflated 0%)\r\n",
      "  adding: images/40.png (deflated 6%)\r\n",
      "  adding: images/28.png (deflated 0%)\r\n",
      "  adding: images/196.png (deflated 3%)\r\n",
      "  adding: images/86.png (deflated 1%)\r\n",
      "  adding: images/29.png (deflated 0%)\r\n",
      "  adding: masks/ (stored 0%)\r\n",
      "  adding: masks/76.png (deflated 44%)\r\n",
      "  adding: masks/96.png (deflated 8%)\r\n",
      "  adding: masks/7.png (deflated 16%)\r\n",
      "  adding: masks/2.png (deflated 16%)\r\n",
      "  adding: masks/33.png (deflated 20%)\r\n",
      "  adding: masks/138.png (deflated 43%)\r\n",
      "  adding: masks/49.png (deflated 57%)\r\n",
      "  adding: masks/149.png (deflated 6%)\r\n",
      "  adding: masks/82.png (deflated 8%)\r\n",
      "  adding: masks/18.png (deflated 7%)\r\n",
      "  adding: masks/139.png (deflated 35%)\r\n",
      "  adding: masks/1.png (deflated 1%)\r\n",
      "  adding: masks/58.png (deflated 52%)\r\n",
      "  adding: masks/99.png (deflated 6%)\r\n",
      "  adding: masks/90.png (deflated 10%)\r\n",
      "  adding: masks/27.png (deflated 11%)\r\n",
      "  adding: masks/80.png (deflated 6%)\r\n",
      "  adding: masks/36.png (deflated 8%)\r\n",
      "  adding: masks/45.png (deflated 41%)\r\n",
      "  adding: masks/105.png (deflated 5%)\r\n",
      "  adding: masks/97.png (deflated 7%)\r\n",
      "  adding: masks/118.png (deflated 4%)\r\n",
      "  adding: masks/67.png (deflated 64%)\r\n",
      "  adding: masks/8.png (deflated 10%)\r\n",
      "  adding: masks/101.png (deflated 10%)\r\n",
      "  adding: masks/87.png (deflated 9%)\r\n",
      "  adding: masks/136.png (deflated 32%)\r\n",
      "  adding: masks/65.png (deflated 55%)\r\n",
      "  adding: masks/10.png (deflated 15%)\r\n",
      "  adding: masks/122.png (deflated 38%)\r\n",
      "  adding: masks/57.png (deflated 36%)\r\n",
      "  adding: masks/154.png (deflated 4%)\r\n",
      "  adding: masks/56.png (deflated 42%)\r\n",
      "  adding: masks/9.png (deflated 22%)\r\n",
      "  adding: masks/50.png (deflated 53%)\r\n",
      "  adding: masks/135.png (deflated 11%)\r\n",
      "  adding: masks/93.png (deflated 5%)\r\n",
      "  adding: masks/24.png (deflated 16%)\r\n",
      "  adding: masks/38.png (deflated 11%)\r\n",
      "  adding: masks/54.png (deflated 44%)\r\n",
      "  adding: masks/116.png (deflated 1%)\r\n",
      "  adding: masks/152.png (deflated 4%)\r\n",
      "  adding: masks/6.png (deflated 12%)\r\n",
      "  adding: masks/60.png (deflated 58%)\r\n",
      "  adding: masks/79.png (deflated 72%)\r\n",
      "  adding: masks/103.png (deflated 2%)\r\n",
      "  adding: masks/37.png (deflated 11%)\r\n",
      "  adding: masks/5.png (deflated 18%)\r\n",
      "  adding: masks/145.png (deflated 52%)\r\n",
      "  adding: masks/4.png (deflated 11%)\r\n",
      "  adding: masks/120.png (deflated 34%)\r\n",
      "  adding: masks/115.png (deflated 6%)\r\n",
      "  adding: masks/155.png (deflated 24%)\r\n",
      "  adding: masks/48.png (deflated 56%)\r\n",
      "  adding: masks/14.png (deflated 4%)\r\n",
      "  adding: masks/151.png (deflated 7%)\r\n",
      "  adding: masks/73.png (deflated 47%)\r\n",
      "  adding: masks/53.png (deflated 60%)\r\n",
      "  adding: masks/77.png (deflated 42%)\r\n",
      "  adding: masks/32.png (deflated 27%)\r\n",
      "  adding: masks/26.png (deflated 12%)\r\n",
      "  adding: masks/117.png (deflated 10%)\r\n",
      "  adding: masks/41.png (deflated 38%)\r\n",
      "  adding: masks/102.png (deflated 14%)\r\n",
      "  adding: masks/119.png (deflated 1%)\r\n",
      "  adding: masks/125.png (deflated 70%)\r\n",
      "  adding: masks/89.png (deflated 13%)\r\n",
      "  adding: masks/132.png (deflated 5%)\r\n",
      "  adding: masks/113.png (deflated 4%)\r\n",
      "  adding: masks/55.png (deflated 32%)\r\n",
      "  adding: masks/88.png (deflated 10%)\r\n",
      "  adding: masks/85.png (deflated 4%)\r\n",
      "  adding: masks/153.png (deflated 3%)\r\n",
      "  adding: masks/121.png (deflated 31%)\r\n",
      "  adding: masks/51.png (deflated 46%)\r\n",
      "  adding: masks/52.png (deflated 56%)\r\n",
      "  adding: masks/69.png (deflated 47%)\r\n",
      "  adding: masks/70.png (deflated 46%)\r\n",
      "  adding: masks/78.png (deflated 68%)\r\n",
      "  adding: masks/147.png (deflated 48%)\r\n",
      "  adding: masks/31.png (deflated 12%)\r\n",
      "  adding: masks/94.png (deflated 6%)\r\n",
      "  adding: masks/131.png (deflated 5%)\r\n",
      "  adding: masks/47.png (deflated 47%)\r\n",
      "  adding: masks/21.png (deflated 3%)\r\n",
      "  adding: masks/127.png (deflated 55%)\r\n",
      "  adding: masks/123.png (deflated 37%)\r\n",
      "  adding: masks/95.png (deflated 2%)\r\n",
      "  adding: masks/107.png (deflated 6%)\r\n",
      "  adding: masks/68.png (deflated 49%)\r\n",
      "  adding: masks/134.png (deflated 5%)\r\n",
      "  adding: masks/17.png (deflated 1%)\r\n",
      "  adding: masks/59.png (deflated 56%)\r\n",
      "  adding: masks/83.png (deflated 12%)\r\n",
      "  adding: masks/25.png (deflated 12%)\r\n",
      "  adding: masks/140.png (deflated 58%)\r\n",
      "  adding: masks/63.png (deflated 57%)\r\n",
      "  adding: masks/64.png (deflated 47%)\r\n",
      "  adding: masks/39.png (deflated 29%)\r\n",
      "  adding: masks/106.png (deflated 5%)\r\n",
      "  adding: masks/126.png (deflated 27%)\r\n",
      "  adding: masks/144.png (deflated 46%)\r\n",
      "  adding: masks/74.png (deflated 59%)\r\n",
      "  adding: masks/98.png (deflated 6%)\r\n",
      "  adding: masks/72.png (deflated 47%)\r\n",
      "  adding: masks/114.png (deflated 10%)\r\n",
      "  adding: masks/19.png (deflated 9%)\r\n",
      "  adding: masks/104.png (deflated 17%)\r\n",
      "  adding: masks/129.png (deflated 16%)\r\n",
      "  adding: masks/137.png (deflated 19%)\r\n",
      "  adding: masks/92.png (deflated 3%)\r\n",
      "  adding: masks/13.png (deflated 9%)\r\n",
      "  adding: masks/112.png (deflated 8%)\r\n",
      "  adding: masks/66.png (deflated 55%)\r\n",
      "  adding: masks/44.png (deflated 52%)\r\n",
      "  adding: masks/20.png (deflated 9%)\r\n",
      "  adding: masks/142.png (deflated 46%)\r\n",
      "  adding: masks/3.png (deflated 9%)\r\n",
      "  adding: masks/100.png (deflated 3%)\r\n",
      "  adding: masks/75.png (deflated 44%)\r\n",
      "  adding: masks/12.png (deflated 14%)\r\n",
      "  adding: masks/146.png (deflated 27%)\r\n",
      "  adding: masks/133.png (deflated 8%)\r\n",
      "  adding: masks/62.png (deflated 69%)\r\n",
      "  adding: masks/0.png (deflated 13%)\r\n",
      "  adding: masks/81.png (deflated 6%)\r\n",
      "  adding: masks/61.png (deflated 59%)\r\n",
      "  adding: masks/111.png (deflated 5%)\r\n",
      "  adding: masks/150.png (deflated 7%)\r\n",
      "  adding: masks/43.png (deflated 46%)\r\n",
      "  adding: masks/71.png (deflated 49%)\r\n",
      "  adding: masks/34.png (deflated 6%)\r\n",
      "  adding: masks/46.png (deflated 58%)\r\n",
      "  adding: masks/42.png (deflated 45%)\r\n",
      "  adding: masks/22.png (deflated 10%)\r\n",
      "  adding: masks/23.png (deflated 22%)\r\n",
      "  adding: masks/130.png (deflated 17%)\r\n",
      "  adding: masks/15.png (deflated 9%)\r\n",
      "  adding: masks/35.png (deflated 16%)\r\n",
      "  adding: masks/124.png (deflated 31%)\r\n",
      "  adding: masks/84.png (deflated 13%)\r\n",
      "  adding: masks/109.png (deflated 15%)\r\n",
      "  adding: masks/110.png (deflated 5%)\r\n",
      "  adding: masks/108.png (deflated 21%)\r\n",
      "  adding: masks/30.png (deflated 5%)\r\n",
      "  adding: masks/141.png (deflated 29%)\r\n",
      "  adding: masks/91.png (deflated 8%)\r\n",
      "  adding: masks/16.png (deflated 3%)\r\n",
      "  adding: masks/11.png (deflated 10%)\r\n",
      "  adding: masks/40.png (deflated 54%)\r\n",
      "  adding: masks/28.png (deflated 18%)\r\n",
      "  adding: masks/86.png (deflated 9%)\r\n",
      "  adding: masks/29.png (deflated 19%)\r\n"
     ]
    },
    {
     "data": {
      "text/plain": [
       "CommitInfo(commit_url='https://huggingface.co/datasets/ain3007-project/dataset-thumbnails-2000/commit/b495d214d747437c1d53486c0900fcda17de41f9', commit_message='Upload metadata.csv with huggingface_hub', commit_description='', oid='b495d214d747437c1d53486c0900fcda17de41f9', pr_url=None, pr_revision=None, pr_num=None)"
      ]
     },
     "execution_count": 25,
     "metadata": {},
     "output_type": "execute_result"
    }
   ],
   "source": [
    "api = hfh.HfApi()\n",
    "\n",
    "# upload zipped folder\n",
    "!zip -r images.zip images\n",
    "!zip -r masks.zip masks\n",
    "\n",
    "api.upload_file(\n",
    "    path_or_fileobj=\"images.zip\",\n",
    "    path_in_repo=\"images.zip\",\n",
    "    repo_id=thumbnail_repo_id,\n",
    "    repo_type=\"dataset\",\n",
    ")\n",
    "\n",
    "api.upload_file(\n",
    "    path_or_fileobj=\"masks.zip\",\n",
    "    path_in_repo=\"masks.zip\",\n",
    "    repo_id=thumbnail_repo_id,\n",
    "    repo_type=\"dataset\",\n",
    ")\n",
    "\n",
    "api.upload_file(\n",
    "    path_or_fileobj=\"metadata.csv\",\n",
    "    path_in_repo=\"metadata.csv\",\n",
    "    repo_id=thumbnail_repo_id,\n",
    "    repo_type=\"dataset\",\n",
    ")"
   ]
  }
 ],
 "metadata": {
  "kaggle": {
   "accelerator": "none",
   "dataSources": [],
   "isGpuEnabled": false,
   "isInternetEnabled": true,
   "language": "python",
   "sourceType": "notebook"
  },
  "kernelspec": {
   "display_name": "Python 3",
   "language": "python",
   "name": "python3"
  },
  "language_info": {
   "codemirror_mode": {
    "name": "ipython",
    "version": 3
   },
   "file_extension": ".py",
   "mimetype": "text/x-python",
   "name": "python",
   "nbconvert_exporter": "python",
   "pygments_lexer": "ipython3",
   "version": "3.10.12"
  },
  "papermill": {
   "default_parameters": {},
   "duration": 7988.950353,
   "end_time": "2024-01-04T00:42:12.230174",
   "environment_variables": {},
   "exception": null,
   "input_path": "__notebook__.ipynb",
   "output_path": "__notebook__.ipynb",
   "parameters": {},
   "start_time": "2024-01-03T22:29:03.279821",
   "version": "2.4.0"
  }
 },
 "nbformat": 4,
 "nbformat_minor": 5
}
