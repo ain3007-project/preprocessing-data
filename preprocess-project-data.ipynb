{
 "cells": [
  {
   "cell_type": "code",
   "execution_count": 1,
   "id": "cb01c2f7",
   "metadata": {
    "_cell_guid": "b1076dfc-b9ad-4769-8c92-a6c4dae69d19",
    "_uuid": "8f2839f25d086af736a60e9eeb907d3b93b6e0e5",
    "execution": {
     "iopub.execute_input": "2024-01-06T19:48:56.166147Z",
     "iopub.status.busy": "2024-01-06T19:48:56.165387Z",
     "iopub.status.idle": "2024-01-06T19:49:11.781890Z",
     "shell.execute_reply": "2024-01-06T19:49:11.779949Z"
    },
    "papermill": {
     "duration": 15.62759,
     "end_time": "2024-01-06T19:49:11.784821",
     "exception": false,
     "start_time": "2024-01-06T19:48:56.157231",
     "status": "completed"
    },
    "tags": []
   },
   "outputs": [],
   "source": [
    "!pip install --quiet git+https://github.com/ain3007-project/project-utils.git"
   ]
  },
  {
   "cell_type": "markdown",
   "id": "c170c8ed",
   "metadata": {
    "papermill": {
     "duration": 0.004978,
     "end_time": "2024-01-06T19:49:11.795363",
     "exception": false,
     "start_time": "2024-01-06T19:49:11.790385",
     "status": "completed"
    },
    "tags": []
   },
   "source": [
    "make turn all images into tiff and xml's into tiff and save them into another repo\n",
    "save thumbnails into a thumbnails repo for visual inspection\n"
   ]
  },
  {
   "cell_type": "code",
   "execution_count": 2,
   "id": "152b9300",
   "metadata": {
    "execution": {
     "iopub.execute_input": "2024-01-06T19:49:11.808882Z",
     "iopub.status.busy": "2024-01-06T19:49:11.808523Z",
     "iopub.status.idle": "2024-01-06T19:49:11.814695Z",
     "shell.execute_reply": "2024-01-06T19:49:11.813075Z"
    },
    "papermill": {
     "duration": 0.016767,
     "end_time": "2024-01-06T19:49:11.817620",
     "exception": false,
     "start_time": "2024-01-06T19:49:11.800853",
     "status": "completed"
    },
    "tags": []
   },
   "outputs": [],
   "source": [
    "raw_repo_id = \"ain3007-project/raw-dataset\"\n",
    "FINAL_IMAGE_SIZE = 512\n",
    "pad_images = True\n",
    "\n",
    "output_repo_id = f\"ain3007-project/dataset-thumbnails-{FINAL_IMAGE_SIZE}\"\n",
    "\n",
    "if pad_images:\n",
    "    output_repo_id += \"-padded\""
   ]
  },
  {
   "cell_type": "code",
   "execution_count": 3,
   "id": "dac31042",
   "metadata": {
    "execution": {
     "iopub.execute_input": "2024-01-06T19:49:11.830684Z",
     "iopub.status.busy": "2024-01-06T19:49:11.830326Z",
     "iopub.status.idle": "2024-01-06T19:49:16.813867Z",
     "shell.execute_reply": "2024-01-06T19:49:16.812268Z"
    },
    "papermill": {
     "duration": 4.993316,
     "end_time": "2024-01-06T19:49:16.816585",
     "exception": false,
     "start_time": "2024-01-06T19:49:11.823269",
     "status": "completed"
    },
    "tags": []
   },
   "outputs": [],
   "source": [
    "import huggingface_hub as hfh\n",
    "import pandas as pd\n",
    "from project_utils.preprocessing import process\n",
    "from project_utils.plotting import plot_image_mask_by_path"
   ]
  },
  {
   "cell_type": "code",
   "execution_count": 4,
   "id": "70f53a36",
   "metadata": {
    "execution": {
     "iopub.execute_input": "2024-01-06T19:49:16.829581Z",
     "iopub.status.busy": "2024-01-06T19:49:16.828966Z",
     "iopub.status.idle": "2024-01-06T19:49:17.606652Z",
     "shell.execute_reply": "2024-01-06T19:49:17.603692Z"
    },
    "papermill": {
     "duration": 0.786516,
     "end_time": "2024-01-06T19:49:17.608920",
     "exception": false,
     "start_time": "2024-01-06T19:49:16.822404",
     "status": "completed"
    },
    "tags": []
   },
   "outputs": [
    {
     "name": "stdout",
     "output_type": "stream",
     "text": [
      "Token will not been saved to git credential helper. Pass `add_to_git_credential=True` if you want to set the git credential as well.\n",
      "Token is valid (permission: write).\n",
      "Your token has been saved to /root/.cache/huggingface/token\n",
      "Login successful\n"
     ]
    }
   ],
   "source": [
    "hfh.login(\"INSERT TOKEN HERE\")"
   ]
  },
  {
   "cell_type": "code",
   "execution_count": 5,
   "id": "238871c9",
   "metadata": {
    "execution": {
     "iopub.execute_input": "2024-01-06T19:49:17.621946Z",
     "iopub.status.busy": "2024-01-06T19:49:17.620687Z",
     "iopub.status.idle": "2024-01-06T19:49:17.626721Z",
     "shell.execute_reply": "2024-01-06T19:49:17.625430Z"
    },
    "papermill": {
     "duration": 0.014361,
     "end_time": "2024-01-06T19:49:17.628647",
     "exception": false,
     "start_time": "2024-01-06T19:49:17.614286",
     "status": "completed"
    },
    "tags": []
   },
   "outputs": [],
   "source": [
    "hfh.utils.disable_progress_bars()"
   ]
  },
  {
   "cell_type": "code",
   "execution_count": 6,
   "id": "5b7a7409",
   "metadata": {
    "execution": {
     "iopub.execute_input": "2024-01-06T19:49:17.641912Z",
     "iopub.status.busy": "2024-01-06T19:49:17.641490Z",
     "iopub.status.idle": "2024-01-06T19:49:17.758973Z",
     "shell.execute_reply": "2024-01-06T19:49:17.756913Z"
    },
    "papermill": {
     "duration": 0.127031,
     "end_time": "2024-01-06T19:49:17.761690",
     "exception": false,
     "start_time": "2024-01-06T19:49:17.634659",
     "status": "completed"
    },
    "tags": []
   },
   "outputs": [
    {
     "data": {
      "text/plain": [
       "RepoUrl('https://huggingface.co/datasets/ain3007-project/dataset-thumbnails-512-padded', endpoint='https://huggingface.co', repo_type='dataset', repo_id='ain3007-project/dataset-thumbnails-512-padded')"
      ]
     },
     "execution_count": 6,
     "metadata": {},
     "output_type": "execute_result"
    }
   ],
   "source": [
    "hfh.create_repo(repo_id=output_repo_id, repo_type=\"dataset\",private=True, exist_ok=True)"
   ]
  },
  {
   "cell_type": "code",
   "execution_count": 7,
   "id": "f941176d",
   "metadata": {
    "execution": {
     "iopub.execute_input": "2024-01-06T19:49:17.775033Z",
     "iopub.status.busy": "2024-01-06T19:49:17.774539Z",
     "iopub.status.idle": "2024-01-06T19:49:18.288597Z",
     "shell.execute_reply": "2024-01-06T19:49:18.287224Z"
    },
    "papermill": {
     "duration": 0.523829,
     "end_time": "2024-01-06T19:49:18.291303",
     "exception": false,
     "start_time": "2024-01-06T19:49:17.767474",
     "status": "completed"
    },
    "tags": []
   },
   "outputs": [
    {
     "data": {
      "text/plain": [
       "RepoFile(path='.gitattributes', size=33568, blob_id='8960f8cc72aabf94beb88eb49e8ca0a0f242795f', lfs=None, last_commit=None, security=None)"
      ]
     },
     "execution_count": 7,
     "metadata": {},
     "output_type": "execute_result"
    }
   ],
   "source": [
    "all_files_raw = list(hfh.list_files_info(repo_id=raw_repo_id, repo_type=\"dataset\"))\n",
    "all_files_raw[0]"
   ]
  },
  {
   "cell_type": "code",
   "execution_count": 8,
   "id": "8bb93fcd",
   "metadata": {
    "execution": {
     "iopub.execute_input": "2024-01-06T19:49:18.305349Z",
     "iopub.status.busy": "2024-01-06T19:49:18.304884Z",
     "iopub.status.idle": "2024-01-06T19:49:18.312720Z",
     "shell.execute_reply": "2024-01-06T19:49:18.311730Z"
    },
    "papermill": {
     "duration": 0.016902,
     "end_time": "2024-01-06T19:49:18.314579",
     "exception": false,
     "start_time": "2024-01-06T19:49:18.297677",
     "status": "completed"
    },
    "tags": []
   },
   "outputs": [
    {
     "data": {
      "text/plain": [
       "(1457, 'Breast1__he/TCGA-A1-A0SM-01Z-00-DX1.svs')"
      ]
     },
     "execution_count": 8,
     "metadata": {},
     "output_type": "execute_result"
    }
   ],
   "source": [
    "file_names = list(map(lambda x: x.rfilename, all_files_raw))\n",
    "file_names.remove(\".gitattributes\")\n",
    "file_names.remove(\"Prostate1__he/._00a76bfbec239fd9f465d6581806ff42.tiff\")\n",
    "len(file_names), file_names[0]"
   ]
  },
  {
   "cell_type": "code",
   "execution_count": 9,
   "id": "cfd7b196",
   "metadata": {
    "execution": {
     "iopub.execute_input": "2024-01-06T19:49:18.328117Z",
     "iopub.status.busy": "2024-01-06T19:49:18.327736Z",
     "iopub.status.idle": "2024-01-06T19:49:18.334516Z",
     "shell.execute_reply": "2024-01-06T19:49:18.333688Z"
    },
    "papermill": {
     "duration": 0.015891,
     "end_time": "2024-01-06T19:49:18.336354",
     "exception": false,
     "start_time": "2024-01-06T19:49:18.320463",
     "status": "completed"
    },
    "tags": []
   },
   "outputs": [
    {
     "data": {
      "text/plain": [
       "(40,\n",
       " ('Breast1__he/TCGA-A1-A0SM-01Z-00-DX1*',\n",
       "  'Breast1__he/TCGA-A1-A0SM-01Z-00-DX1.svs',\n",
       "  'Breast1__he/TCGA-A1-A0SM-01Z-00-DX1.xml'))"
      ]
     },
     "execution_count": 9,
     "metadata": {},
     "output_type": "execute_result"
    }
   ],
   "source": [
    "breast1_files = [i.replace(\".svs\", \"\") for i in file_names if i.endswith(\"svs\")]\n",
    "breast1_files = [(i+\"*\", i+\".svs\", i+\".xml\") for i in breast1_files]\n",
    "len(breast1_files), breast1_files[0]"
   ]
  },
  {
   "cell_type": "code",
   "execution_count": 10,
   "id": "9ae23df2",
   "metadata": {
    "execution": {
     "iopub.execute_input": "2024-01-06T19:49:18.349511Z",
     "iopub.status.busy": "2024-01-06T19:49:18.348931Z",
     "iopub.status.idle": "2024-01-06T19:49:18.355881Z",
     "shell.execute_reply": "2024-01-06T19:49:18.354925Z"
    },
    "papermill": {
     "duration": 0.015626,
     "end_time": "2024-01-06T19:49:18.357557",
     "exception": false,
     "start_time": "2024-01-06T19:49:18.341931",
     "status": "completed"
    },
    "tags": []
   },
   "outputs": [
    {
     "data": {
      "text/plain": [
       "(40,\n",
       " (('Breast2__he/1/*', 'Breast2__he/1.*'),\n",
       "  'Breast2__he/1.mrxs',\n",
       "  'Breast2__he/1.xml'))"
      ]
     },
     "execution_count": 10,
     "metadata": {},
     "output_type": "execute_result"
    }
   ],
   "source": [
    "breast2_files = [i.replace(\".mrxs\", \"\") for i in file_names if i.endswith(\"mrxs\")]\n",
    "breast2_files = [((i+\"/*\", i+\".*\"), i+\".mrxs\", i+\".xml\") for i in breast2_files]\n",
    "len(breast2_files), breast2_files[0]"
   ]
  },
  {
   "cell_type": "code",
   "execution_count": 11,
   "id": "833a7123",
   "metadata": {
    "execution": {
     "iopub.execute_input": "2024-01-06T19:49:18.370792Z",
     "iopub.status.busy": "2024-01-06T19:49:18.370197Z",
     "iopub.status.idle": "2024-01-06T19:49:18.377417Z",
     "shell.execute_reply": "2024-01-06T19:49:18.376500Z"
    },
    "papermill": {
     "duration": 0.015857,
     "end_time": "2024-01-06T19:49:18.379227",
     "exception": false,
     "start_time": "2024-01-06T19:49:18.363370",
     "status": "completed"
    },
    "tags": []
   },
   "outputs": [
    {
     "data": {
      "text/plain": [
       "(40,\n",
       " ('Breast3__ihc/04_HER2*',\n",
       "  'Breast3__ihc/04_HER2.ndpi',\n",
       "  'Breast3__ihc/04_HER2.xml'))"
      ]
     },
     "execution_count": 11,
     "metadata": {},
     "output_type": "execute_result"
    }
   ],
   "source": [
    "breast3_files = [i.replace(\".ndpi\", \"\") for i in file_names if i.endswith(\"ndpi\")]\n",
    "breast3_files = [(i+\"*\", i+\".ndpi\", i+\".xml\") for i in breast3_files]\n",
    "len(breast3_files), breast3_files[0]"
   ]
  },
  {
   "cell_type": "code",
   "execution_count": 12,
   "id": "8c786c77",
   "metadata": {
    "execution": {
     "iopub.execute_input": "2024-01-06T19:49:18.394824Z",
     "iopub.status.busy": "2024-01-06T19:49:18.394189Z",
     "iopub.status.idle": "2024-01-06T19:49:18.401156Z",
     "shell.execute_reply": "2024-01-06T19:49:18.400317Z"
    },
    "papermill": {
     "duration": 0.017991,
     "end_time": "2024-01-06T19:49:18.403636",
     "exception": false,
     "start_time": "2024-01-06T19:49:18.385645",
     "status": "completed"
    },
    "tags": []
   },
   "outputs": [
    {
     "data": {
      "text/plain": [
       "(40,\n",
       " ('LymphNode1__he/patient_002_node_1*',\n",
       "  'LymphNode1__he/patient_002_node_1.tif',\n",
       "  'LymphNode1__he/patient_002_node_1.xml'))"
      ]
     },
     "execution_count": 12,
     "metadata": {},
     "output_type": "execute_result"
    }
   ],
   "source": [
    "lymph1_files = [i.replace(\".tif\", \"\") for i in file_names if i.endswith(\"tif\")]\n",
    "lymph1_files = [(i+\"*\", i+\".tif\", i+\".xml\") for i in lymph1_files]\n",
    "len(lymph1_files), lymph1_files[0]"
   ]
  },
  {
   "cell_type": "code",
   "execution_count": 13,
   "id": "4237786f",
   "metadata": {
    "execution": {
     "iopub.execute_input": "2024-01-06T19:49:18.418540Z",
     "iopub.status.busy": "2024-01-06T19:49:18.417946Z",
     "iopub.status.idle": "2024-01-06T19:49:18.425710Z",
     "shell.execute_reply": "2024-01-06T19:49:18.424052Z"
    },
    "papermill": {
     "duration": 0.018048,
     "end_time": "2024-01-06T19:49:18.428476",
     "exception": false,
     "start_time": "2024-01-06T19:49:18.410428",
     "status": "completed"
    },
    "tags": []
   },
   "outputs": [
    {
     "data": {
      "text/plain": [
       "(40,\n",
       " ('Prostate1__he/0005f7aaab2800f6170c399693a96917*',\n",
       "  'Prostate1__he/0005f7aaab2800f6170c399693a96917.tiff',\n",
       "  None))"
      ]
     },
     "execution_count": 13,
     "metadata": {},
     "output_type": "execute_result"
    }
   ],
   "source": [
    "prostate1_files = [i.replace(\".tiff\", \"\") for i in file_names if i.endswith(\"tiff\")]\n",
    "prostate1_files = [(i+\"*\", i+\".tiff\", None) for i in prostate1_files]\n",
    "len(prostate1_files), prostate1_files[0]"
   ]
  },
  {
   "cell_type": "code",
   "execution_count": 14,
   "id": "58eb4821",
   "metadata": {
    "execution": {
     "iopub.execute_input": "2024-01-06T19:49:18.443181Z",
     "iopub.status.busy": "2024-01-06T19:49:18.442062Z",
     "iopub.status.idle": "2024-01-06T19:49:18.756249Z",
     "shell.execute_reply": "2024-01-06T19:49:18.754574Z"
    },
    "papermill": {
     "duration": 0.324064,
     "end_time": "2024-01-06T19:49:18.758899",
     "exception": false,
     "start_time": "2024-01-06T19:49:18.434835",
     "status": "completed"
    },
    "tags": []
   },
   "outputs": [],
   "source": [
    "!mkdir images masks\n",
    "api = hfh.HfApi()"
   ]
  },
  {
   "cell_type": "code",
   "execution_count": 15,
   "id": "0e6a1187",
   "metadata": {
    "execution": {
     "iopub.execute_input": "2024-01-06T19:49:18.774740Z",
     "iopub.status.busy": "2024-01-06T19:49:18.773448Z",
     "iopub.status.idle": "2024-01-06T19:49:18.798685Z",
     "shell.execute_reply": "2024-01-06T19:49:18.797665Z"
    },
    "papermill": {
     "duration": 0.034501,
     "end_time": "2024-01-06T19:49:18.800414",
     "exception": false,
     "start_time": "2024-01-06T19:49:18.765913",
     "status": "completed"
    },
    "tags": []
   },
   "outputs": [
    {
     "data": {
      "text/html": [
       "<div>\n",
       "<style scoped>\n",
       "    .dataframe tbody tr th:only-of-type {\n",
       "        vertical-align: middle;\n",
       "    }\n",
       "\n",
       "    .dataframe tbody tr th {\n",
       "        vertical-align: top;\n",
       "    }\n",
       "\n",
       "    .dataframe thead th {\n",
       "        text-align: right;\n",
       "    }\n",
       "</style>\n",
       "<table border=\"1\" class=\"dataframe\">\n",
       "  <thead>\n",
       "    <tr style=\"text-align: right;\">\n",
       "      <th></th>\n",
       "      <th>image_id</th>\n",
       "      <th>file_name</th>\n",
       "      <th>source_dataset</th>\n",
       "      <th>image-dimension_x</th>\n",
       "      <th>image-dimension_y</th>\n",
       "      <th>image-levels</th>\n",
       "      <th>image-format</th>\n",
       "      <th>mask_shrink_factor</th>\n",
       "    </tr>\n",
       "  </thead>\n",
       "  <tbody>\n",
       "  </tbody>\n",
       "</table>\n",
       "</div>"
      ],
      "text/plain": [
       "Empty DataFrame\n",
       "Columns: [image_id, file_name, source_dataset, image-dimension_x, image-dimension_y, image-levels, image-format, mask_shrink_factor]\n",
       "Index: []"
      ]
     },
     "execution_count": 15,
     "metadata": {},
     "output_type": "execute_result"
    }
   ],
   "source": [
    "metadata_df = pd.DataFrame(columns=[\"image_id\", \"file_name\", \"source_dataset\", \"image-dimension_x\", \"image-dimension_y\", \"image-levels\", \"image-format\", \"mask_shrink_factor\"])\n",
    "metadata_df"
   ]
  },
  {
   "cell_type": "code",
   "execution_count": 16,
   "id": "bc7084b6",
   "metadata": {
    "execution": {
     "iopub.execute_input": "2024-01-06T19:49:18.815691Z",
     "iopub.status.busy": "2024-01-06T19:49:18.814473Z",
     "iopub.status.idle": "2024-01-06T19:52:58.932070Z",
     "shell.execute_reply": "2024-01-06T19:52:58.930724Z"
    },
    "papermill": {
     "duration": 220.12734,
     "end_time": "2024-01-06T19:52:58.934146",
     "exception": false,
     "start_time": "2024-01-06T19:49:18.806806",
     "status": "completed"
    },
    "tags": []
   },
   "outputs": [
    {
     "name": "stdout",
     "output_type": "stream",
     "text": [
      "finished 0 image of Breast1\n",
      "finished 1 image of Breast1\n",
      "finished 2 image of Breast1\n",
      "finished 3 image of Breast1\n",
      "finished 4 image of Breast1\n",
      "finished 5 image of Breast1\n",
      "finished 6 image of Breast1\n",
      "finished 7 image of Breast1\n",
      "finished 8 image of Breast1\n",
      "finished 9 image of Breast1\n",
      "finished 10 image of Breast1\n",
      "finished 11 image of Breast1\n",
      "finished 12 image of Breast1\n",
      "finished 13 image of Breast1\n",
      "finished 14 image of Breast1\n",
      "finished 15 image of Breast1\n",
      "finished 16 image of Breast1\n",
      "finished 17 image of Breast1\n",
      "finished 18 image of Breast1\n",
      "finished 19 image of Breast1\n",
      "finished 20 image of Breast1\n",
      "finished 21 image of Breast1\n",
      "finished 22 image of Breast1\n",
      "finished 23 image of Breast1\n",
      "finished 24 image of Breast1\n",
      "finished 25 image of Breast1\n",
      "finished 26 image of Breast1\n",
      "finished 27 image of Breast1\n",
      "finished 28 image of Breast1\n",
      "finished 29 image of Breast1\n",
      "finished 30 image of Breast1\n",
      "finished 31 image of Breast1\n",
      "finished 32 image of Breast1\n",
      "finished 33 image of Breast1\n",
      "finished 34 image of Breast1\n",
      "finished 35 image of Breast1\n",
      "finished 36 image of Breast1\n",
      "finished 37 image of Breast1\n",
      "finished 38 image of Breast1\n",
      "finished 39 image of Breast1\n"
     ]
    },
    {
     "data": {
      "text/plain": [
       "40"
      ]
     },
     "execution_count": 16,
     "metadata": {},
     "output_type": "execute_result"
    }
   ],
   "source": [
    "image_idx = 0\n",
    "image_idx, metadata_df = process(\n",
    "    breast1_files,\n",
    "    image_idx,\n",
    "    metadata_df,\n",
    "    thumbnail_size=(FINAL_IMAGE_SIZE, FINAL_IMAGE_SIZE),\n",
    "    source_folder_name=\"Breast1\",\n",
    "    raw_repo_id=raw_repo_id,\n",
    "    pad_images=pad_images\n",
    ")\n",
    "image_idx"
   ]
  },
  {
   "cell_type": "code",
   "execution_count": 17,
   "id": "72704329",
   "metadata": {
    "execution": {
     "iopub.execute_input": "2024-01-06T19:52:58.953886Z",
     "iopub.status.busy": "2024-01-06T19:52:58.952887Z",
     "iopub.status.idle": "2024-01-06T20:03:32.609108Z",
     "shell.execute_reply": "2024-01-06T20:03:32.607058Z"
    },
    "papermill": {
     "duration": 633.670089,
     "end_time": "2024-01-06T20:03:32.612910",
     "exception": false,
     "start_time": "2024-01-06T19:52:58.942821",
     "status": "completed"
    },
    "tags": []
   },
   "outputs": [
    {
     "name": "stdout",
     "output_type": "stream",
     "text": [
      "finished 40 image of Breast2\n",
      "finished 41 image of Breast2\n",
      "finished 42 image of Breast2\n",
      "finished 43 image of Breast2\n",
      "finished 44 image of Breast2\n",
      "finished 45 image of Breast2\n",
      "finished 46 image of Breast2\n",
      "finished 47 image of Breast2\n",
      "finished 48 image of Breast2\n",
      "finished 49 image of Breast2\n",
      "finished 50 image of Breast2\n",
      "finished 51 image of Breast2\n",
      "finished 52 image of Breast2\n",
      "Annotation label must be either tissue or bg but found: roi\n",
      "finished 53 image of Breast2\n",
      "finished 54 image of Breast2\n",
      "finished 55 image of Breast2\n",
      "finished 56 image of Breast2\n",
      "finished 57 image of Breast2\n",
      "finished 58 image of Breast2\n",
      "finished 59 image of Breast2\n",
      "finished 60 image of Breast2\n",
      "finished 61 image of Breast2\n",
      "finished 62 image of Breast2\n",
      "finished 63 image of Breast2\n",
      "finished 64 image of Breast2\n",
      "finished 65 image of Breast2\n",
      "finished 66 image of Breast2\n",
      "finished 67 image of Breast2\n",
      "finished 68 image of Breast2\n",
      "finished 69 image of Breast2\n",
      "finished 70 image of Breast2\n",
      "finished 71 image of Breast2\n",
      "finished 72 image of Breast2\n",
      "finished 73 image of Breast2\n",
      "finished 74 image of Breast2\n",
      "finished 75 image of Breast2\n",
      "finished 76 image of Breast2\n",
      "finished 77 image of Breast2\n",
      "finished 78 image of Breast2\n",
      "finished 79 image of Breast2\n"
     ]
    },
    {
     "data": {
      "text/plain": [
       "80"
      ]
     },
     "execution_count": 17,
     "metadata": {},
     "output_type": "execute_result"
    }
   ],
   "source": [
    "image_idx, metadata_df = process(\n",
    "    breast2_files,\n",
    "    image_idx,\n",
    "    metadata_df,\n",
    "    thumbnail_size=(FINAL_IMAGE_SIZE, FINAL_IMAGE_SIZE),\n",
    "    source_folder_name=\"Breast2\",\n",
    "    raw_repo_id=raw_repo_id,\n",
    "    pad_images=pad_images\n",
    ")\n",
    "image_idx"
   ]
  },
  {
   "cell_type": "code",
   "execution_count": 18,
   "id": "ae7c4e53",
   "metadata": {
    "execution": {
     "iopub.execute_input": "2024-01-06T20:03:32.638397Z",
     "iopub.status.busy": "2024-01-06T20:03:32.637976Z",
     "iopub.status.idle": "2024-01-06T20:05:41.080903Z",
     "shell.execute_reply": "2024-01-06T20:05:41.078887Z"
    },
    "papermill": {
     "duration": 128.458938,
     "end_time": "2024-01-06T20:05:41.083837",
     "exception": false,
     "start_time": "2024-01-06T20:03:32.624899",
     "status": "completed"
    },
    "tags": []
   },
   "outputs": [
    {
     "name": "stdout",
     "output_type": "stream",
     "text": [
      "finished 80 image of Breast3\n",
      "finished 81 image of Breast3\n",
      "finished 82 image of Breast3\n",
      "finished 83 image of Breast3\n",
      "finished 84 image of Breast3\n",
      "finished 85 image of Breast3\n",
      "finished 86 image of Breast3\n",
      "finished 87 image of Breast3\n",
      "finished 88 image of Breast3\n",
      "finished 89 image of Breast3\n",
      "finished 90 image of Breast3\n",
      "finished 91 image of Breast3\n",
      "finished 92 image of Breast3\n",
      "finished 93 image of Breast3\n",
      "finished 94 image of Breast3\n",
      "finished 95 image of Breast3\n",
      "finished 96 image of Breast3\n",
      "finished 97 image of Breast3\n",
      "finished 98 image of Breast3\n",
      "finished 99 image of Breast3\n",
      "finished 100 image of Breast3\n",
      "finished 101 image of Breast3\n",
      "finished 102 image of Breast3\n",
      "finished 103 image of Breast3\n",
      "finished 104 image of Breast3\n",
      "finished 105 image of Breast3\n",
      "finished 106 image of Breast3\n",
      "finished 107 image of Breast3\n",
      "finished 108 image of Breast3\n",
      "finished 109 image of Breast3\n",
      "finished 110 image of Breast3\n",
      "finished 111 image of Breast3\n",
      "finished 112 image of Breast3\n",
      "finished 113 image of Breast3\n",
      "finished 114 image of Breast3\n",
      "finished 115 image of Breast3\n",
      "finished 116 image of Breast3\n",
      "finished 117 image of Breast3\n",
      "finished 118 image of Breast3\n",
      "finished 119 image of Breast3\n"
     ]
    },
    {
     "data": {
      "text/plain": [
       "120"
      ]
     },
     "execution_count": 18,
     "metadata": {},
     "output_type": "execute_result"
    }
   ],
   "source": [
    "image_idx, metadata_df = process(\n",
    "    breast3_files,\n",
    "    image_idx,\n",
    "    metadata_df,\n",
    "    thumbnail_size=(FINAL_IMAGE_SIZE, FINAL_IMAGE_SIZE),\n",
    "    source_folder_name=\"Breast3\",\n",
    "    raw_repo_id=raw_repo_id,\n",
    "    pad_images=pad_images\n",
    ")\n",
    "image_idx"
   ]
  },
  {
   "cell_type": "code",
   "execution_count": 19,
   "id": "29c13761",
   "metadata": {
    "execution": {
     "iopub.execute_input": "2024-01-06T20:05:41.114221Z",
     "iopub.status.busy": "2024-01-06T20:05:41.113666Z",
     "iopub.status.idle": "2024-01-06T20:12:26.724838Z",
     "shell.execute_reply": "2024-01-06T20:12:26.723466Z"
    },
    "papermill": {
     "duration": 405.628527,
     "end_time": "2024-01-06T20:12:26.726896",
     "exception": false,
     "start_time": "2024-01-06T20:05:41.098369",
     "status": "completed"
    },
    "tags": []
   },
   "outputs": [
    {
     "name": "stdout",
     "output_type": "stream",
     "text": [
      "Annotation label must be either tissue or bg but found: roi\n",
      "finished 120 image of Lymph1\n",
      "Annotation label must be either tissue or bg but found: roi\n",
      "finished 121 image of Lymph1\n",
      "Annotation label must be either tissue or bg but found: roi\n",
      "finished 122 image of Lymph1\n",
      "Annotation label must be either tissue or bg but found: roi\n",
      "finished 123 image of Lymph1\n",
      "Annotation label must be either tissue or bg but found: roi\n",
      "finished 124 image of Lymph1\n",
      "Annotation label must be either tissue or bg but found: roi\n",
      "finished 125 image of Lymph1\n",
      "Annotation label must be either tissue or bg but found: roi\n",
      "finished 126 image of Lymph1\n",
      "Annotation label must be either tissue or bg but found: roi\n",
      "finished 127 image of Lymph1\n",
      "image LymphNode1__he/patient_044_node_0.tif didnt get recognized by OpenSlide. OpenSlideUnsupportedFormatError\n",
      "Annotation label must be either tissue or bg but found: roi\n",
      "finished 129 image of Lymph1\n",
      "Annotation label must be either tissue or bg but found: roi\n",
      "finished 130 image of Lymph1\n",
      "Annotation label must be either tissue or bg but found: roi\n",
      "finished 131 image of Lymph1\n",
      "Annotation label must be either tissue or bg but found: roi\n",
      "finished 132 image of Lymph1\n",
      "Annotation label must be either tissue or bg but found: roi\n",
      "finished 133 image of Lymph1\n",
      "Annotation label must be either tissue or bg but found: roi\n",
      "finished 134 image of Lymph1\n",
      "Annotation label must be either tissue or bg but found: roi\n",
      "finished 135 image of Lymph1\n",
      "Annotation label must be either tissue or bg but found: roi\n",
      "finished 136 image of Lymph1\n",
      "Annotation label must be either tissue or bg but found: roi\n",
      "finished 137 image of Lymph1\n",
      "Annotation label must be either tissue or bg but found: roi\n",
      "finished 138 image of Lymph1\n",
      "Annotation label must be either tissue or bg but found: roi\n",
      "finished 139 image of Lymph1\n",
      "Annotation label must be either tissue or bg but found: roi\n",
      "finished 140 image of Lymph1\n",
      "Annotation label must be either tissue or bg but found: roi\n",
      "finished 141 image of Lymph1\n",
      "Annotation label must be either tissue or bg but found: roi\n",
      "finished 142 image of Lymph1\n",
      "image LymphNode1__he/patient_069_node_0.tif didnt get recognized by OpenSlide. OpenSlideUnsupportedFormatError\n",
      "Annotation label must be either tissue or bg but found: roi\n",
      "finished 144 image of Lymph1\n",
      "Annotation label must be either tissue or bg but found: roi\n",
      "finished 145 image of Lymph1\n",
      "Annotation label must be either tissue or bg but found: roi\n",
      "finished 146 image of Lymph1\n",
      "Annotation label must be either tissue or bg but found: roi\n",
      "finished 147 image of Lymph1\n",
      "image LymphNode1__he/patient_078_node_0.tif didnt get recognized by OpenSlide. OpenSlideUnsupportedFormatError\n",
      "Annotation label must be either tissue or bg but found: roi\n",
      "finished 149 image of Lymph1\n",
      "Annotation label must be either tissue or bg but found: roi\n",
      "finished 150 image of Lymph1\n",
      "Annotation label must be either tissue or bg but found: roi\n",
      "finished 151 image of Lymph1\n",
      "Annotation label must be either tissue or bg but found: roi\n",
      "finished 152 image of Lymph1\n",
      "Annotation label must be either tissue or bg but found: roi\n",
      "finished 153 image of Lymph1\n",
      "Annotation label must be either tissue or bg but found: roi\n",
      "finished 154 image of Lymph1\n",
      "Annotation label must be either tissue or bg but found: roi\n",
      "finished 155 image of Lymph1\n",
      "image LymphNode1__he/patient_092_node_0.tif didnt get recognized by OpenSlide. OpenSlideError\n"
     ]
    },
    {
     "name": "stderr",
     "output_type": "stream",
     "text": [
      "hf_folder/datasets--ain3007-project--raw-dataset/snapshots/657934f16e042b975b5aba440fd064fad5cbdfdc/LymphNode1__he/patient_092_node_0.tif: Failed to allocate memory for to read TIFF directory (0 elements of 20 bytes each).\n",
      "TIFFReadDirectory: Failed to read directory at offset 871004154.\n"
     ]
    },
    {
     "name": "stdout",
     "output_type": "stream",
     "text": [
      "image LymphNode1__he/patient_096_node_0.tif didnt get recognized by OpenSlide. OpenSlideUnsupportedFormatError\n"
     ]
    },
    {
     "name": "stderr",
     "output_type": "stream",
     "text": [
      "hf_folder/datasets--ain3007-project--raw-dataset/snapshots/657934f16e042b975b5aba440fd064fad5cbdfdc/LymphNode1__he/patient_097_node_0.tif: Failed to allocate memory for to read TIFF directory (0 elements of 20 bytes each).\n",
      "TIFFReadDirectory: Failed to read directory at offset 444340392.\n"
     ]
    },
    {
     "name": "stdout",
     "output_type": "stream",
     "text": [
      "image LymphNode1__he/patient_097_node_0.tif didnt get recognized by OpenSlide. OpenSlideError\n",
      "image LymphNode1__he/patient_098_node_0.tif didnt get recognized by OpenSlide. OpenSlideUnsupportedFormatError\n"
     ]
    },
    {
     "data": {
      "text/plain": [
       "160"
      ]
     },
     "execution_count": 19,
     "metadata": {},
     "output_type": "execute_result"
    }
   ],
   "source": [
    "image_idx, metadata_df = process(\n",
    "    lymph1_files,\n",
    "    image_idx,\n",
    "    metadata_df,\n",
    "    thumbnail_size=(FINAL_IMAGE_SIZE, FINAL_IMAGE_SIZE),\n",
    "    source_folder_name=\"Lymph1\",\n",
    "    raw_repo_id=raw_repo_id,\n",
    "    pad_images=pad_images\n",
    ")\n",
    "image_idx"
   ]
  },
  {
   "cell_type": "code",
   "execution_count": 20,
   "id": "16007a4a",
   "metadata": {
    "execution": {
     "iopub.execute_input": "2024-01-06T20:12:26.765490Z",
     "iopub.status.busy": "2024-01-06T20:12:26.764225Z",
     "iopub.status.idle": "2024-01-06T20:13:01.623521Z",
     "shell.execute_reply": "2024-01-06T20:13:01.621900Z"
    },
    "papermill": {
     "duration": 34.880444,
     "end_time": "2024-01-06T20:13:01.625408",
     "exception": false,
     "start_time": "2024-01-06T20:12:26.744964",
     "status": "completed"
    },
    "tags": []
   },
   "outputs": [
    {
     "name": "stdout",
     "output_type": "stream",
     "text": [
      "finished 160 image of Prostate1\n",
      "finished 161 image of Prostate1\n",
      "finished 162 image of Prostate1\n",
      "finished 163 image of Prostate1\n",
      "finished 164 image of Prostate1\n",
      "image Prostate1__he/003046e27c8ead3e3db155780dc5498e.tiff didnt get recognized by OpenSlide. OpenSlideUnsupportedFormatError\n",
      "finished 166 image of Prostate1\n",
      "finished 167 image of Prostate1\n",
      "finished 168 image of Prostate1\n",
      "finished 169 image of Prostate1\n",
      "image Prostate1__he/004391d48d58b18156f811087cd38abf.tiff didnt get recognized by OpenSlide. OpenSlideUnsupportedFormatError\n",
      "finished 171 image of Prostate1\n",
      "finished 172 image of Prostate1\n",
      "finished 173 image of Prostate1\n",
      "finished 174 image of Prostate1\n",
      "finished 175 image of Prostate1\n",
      "finished 176 image of Prostate1\n",
      "finished 177 image of Prostate1\n",
      "finished 178 image of Prostate1\n",
      "finished 179 image of Prostate1\n",
      "finished 180 image of Prostate1\n",
      "finished 181 image of Prostate1\n",
      "finished 182 image of Prostate1\n",
      "image Prostate1__he/0125392d1963a6b69a37f9e30333d68a.tiff didnt get recognized by OpenSlide. OpenSlideUnsupportedFormatError\n",
      "finished 184 image of Prostate1\n",
      "finished 185 image of Prostate1\n",
      "image Prostate1__he/01699a34381500901408ba3258f5c61a.tiff didnt get recognized by OpenSlide. OpenSlideUnsupportedFormatError\n",
      "finished 187 image of Prostate1\n",
      "finished 188 image of Prostate1\n",
      "finished 189 image of Prostate1\n",
      "finished 190 image of Prostate1\n",
      "finished 191 image of Prostate1\n",
      "finished 192 image of Prostate1\n",
      "finished 193 image of Prostate1\n",
      "finished 194 image of Prostate1\n",
      "finished 195 image of Prostate1\n",
      "finished 196 image of Prostate1\n",
      "finished 197 image of Prostate1\n",
      "finished 198 image of Prostate1\n",
      "finished 199 image of Prostate1\n"
     ]
    },
    {
     "data": {
      "text/plain": [
       "200"
      ]
     },
     "execution_count": 20,
     "metadata": {},
     "output_type": "execute_result"
    }
   ],
   "source": [
    "image_idx, metadata_df = process(\n",
    "    prostate1_files,\n",
    "    image_idx,\n",
    "    metadata_df,\n",
    "    thumbnail_size=(FINAL_IMAGE_SIZE, FINAL_IMAGE_SIZE),\n",
    "    source_folder_name=\"Prostate1\",\n",
    "    raw_repo_id=raw_repo_id,\n",
    "    pad_images=pad_images\n",
    ")\n",
    "image_idx"
   ]
  },
  {
   "cell_type": "code",
   "execution_count": 21,
   "id": "04e6e8e8",
   "metadata": {
    "execution": {
     "iopub.execute_input": "2024-01-06T20:13:01.669805Z",
     "iopub.status.busy": "2024-01-06T20:13:01.669427Z",
     "iopub.status.idle": "2024-01-06T20:13:02.014367Z",
     "shell.execute_reply": "2024-01-06T20:13:02.013208Z"
    },
    "papermill": {
     "duration": 0.371774,
     "end_time": "2024-01-06T20:13:02.017849",
     "exception": false,
     "start_time": "2024-01-06T20:13:01.646075",
     "status": "completed"
    },
    "tags": []
   },
   "outputs": [
    {
     "data": {
      "image/png": "[encoded data removed]",
      "text/plain": [
       "<Figure size 1000x500 with 2 Axes>"
      ]
     },
     "metadata": {},
     "output_type": "display_data"
    }
   ],
   "source": [
    "plot_image_mask_by_path(\"images/2.png\", \"masks/2.png\")\n"
   ]
  },
  {
   "cell_type": "code",
   "execution_count": 22,
   "id": "66cd2613",
   "metadata": {
    "execution": {
     "iopub.execute_input": "2024-01-06T20:13:02.064144Z",
     "iopub.status.busy": "2024-01-06T20:13:02.063572Z",
     "iopub.status.idle": "2024-01-06T20:13:02.099506Z",
     "shell.execute_reply": "2024-01-06T20:13:02.097697Z"
    },
    "papermill": {
     "duration": 0.061813,
     "end_time": "2024-01-06T20:13:02.102133",
     "exception": false,
     "start_time": "2024-01-06T20:13:02.040320",
     "status": "completed"
    },
    "tags": []
   },
   "outputs": [],
   "source": [
    "metadata_df.to_csv(\"metadata.csv\", index=False)"
   ]
  },
  {
   "cell_type": "code",
   "execution_count": 23,
   "id": "0331006d",
   "metadata": {
    "execution": {
     "iopub.execute_input": "2024-01-06T20:13:02.151365Z",
     "iopub.status.busy": "2024-01-06T20:13:02.150930Z",
     "iopub.status.idle": "2024-01-06T20:13:07.839995Z",
     "shell.execute_reply": "2024-01-06T20:13:07.838258Z"
    },
    "papermill": {
     "duration": 5.71679,
     "end_time": "2024-01-06T20:13:07.843112",
     "exception": false,
     "start_time": "2024-01-06T20:13:02.126322",
     "status": "completed"
    },
    "tags": []
   },
   "outputs": [
    {
     "name": "stdout",
     "output_type": "stream",
     "text": [
      "  adding: images/ (stored 0%)\r\n",
      "  adding: images/129.png (deflated 0%)\r\n",
      "  adding: images/72.png (deflated 3%)\r\n",
      "  adding: images/15.png (deflated 0%)\r\n",
      "  adding: images/23.png (deflated 0%)\r\n",
      "  adding: images/137.png (deflated 2%)\r\n",
      "  adding: images/20.png (deflated 0%)\r\n",
      "  adding: images/112.png (deflated 5%)\r\n",
      "  adding: images/118.png (deflated 4%)\r\n",
      "  adding: images/10.png (deflated 2%)\r\n",
      "  adding: images/113.png (deflated 4%)\r\n",
      "  adding: images/167.png (deflated 5%)\r\n",
      "  adding: images/147.png (deflated 9%)\r\n",
      "  adding: images/115.png (deflated 2%)\r\n",
      "  adding: images/24.png (deflated 0%)\r\n",
      "  adding: images/49.png (deflated 6%)\r\n",
      "  adding: images/171.png (deflated 3%)\r\n",
      "  adding: images/4.png (deflated 3%)\r\n",
      "  adding: images/51.png (deflated 5%)\r\n",
      "  adding: images/122.png (deflated 3%)\r\n",
      "  adding: images/103.png (deflated 5%)\r\n",
      "  adding: images/41.png (deflated 3%)\r\n",
      "  adding: images/125.png (deflated 10%)\r\n",
      "  adding: images/67.png (deflated 21%)\r\n",
      "  adding: images/162.png (deflated 2%)\r\n",
      "  adding: images/94.png (deflated 6%)\r\n",
      "  adding: images/9.png (deflated 0%)\r\n",
      "  adding: images/169.png (deflated 1%)\r\n",
      "  adding: images/101.png (deflated 3%)\r\n",
      "  adding: images/133.png (deflated 0%)\r\n",
      "  adding: images/37.png (deflated 0%)\r\n",
      "  adding: images/40.png (deflated 9%)\r\n",
      "  adding: images/180.png (deflated 2%)\r\n",
      "  adding: images/145.png (deflated 10%)\r\n",
      "  adding: images/56.png (deflated 3%)\r\n",
      "  adding: images/196.png (deflated 3%)\r\n",
      "  adding: images/76.png (deflated 7%)\r\n",
      "  adding: images/102.png (deflated 3%)\r\n",
      "  adding: images/117.png (deflated 6%)\r\n",
      "  adding: images/61.png (deflated 4%)\r\n",
      "  adding: images/146.png (deflated 1%)\r\n",
      "  adding: images/39.png (deflated 1%)\r\n",
      "  adding: images/106.png (deflated 9%)\r\n",
      "  adding: images/168.png (deflated 5%)\r\n",
      "  adding: images/154.png (deflated 2%)\r\n",
      "  adding: images/63.png (deflated 11%)\r\n",
      "  adding: images/166.png (deflated 6%)\r\n",
      "  adding: images/26.png (deflated 1%)\r\n",
      "  adding: images/27.png (deflated 0%)\r\n",
      "  adding: images/36.png (deflated 0%)\r\n",
      "  adding: images/98.png (deflated 4%)\r\n",
      "  adding: images/191.png (deflated 2%)\r\n",
      "  adding: images/130.png (deflated 0%)\r\n",
      "  adding: images/46.png (deflated 9%)\r\n",
      "  adding: images/97.png (deflated 5%)\r\n",
      "  adding: images/139.png (deflated 5%)\r\n",
      "  adding: images/123.png (deflated 4%)\r\n",
      "  adding: images/66.png (deflated 4%)\r\n",
      "  adding: images/82.png (deflated 3%)\r\n",
      "  adding: images/14.png (deflated 0%)\r\n",
      "  adding: images/93.png (deflated 7%)\r\n",
      "  adding: images/57.png (deflated 3%)\r\n",
      "  adding: images/25.png (deflated 0%)\r\n",
      "  adding: images/182.png (deflated 2%)\r\n",
      "  adding: images/144.png (deflated 2%)\r\n",
      "  adding: images/5.png (deflated 0%)\r\n",
      "  adding: images/109.png (deflated 1%)\r\n",
      "  adding: images/71.png (deflated 11%)\r\n",
      "  adding: images/19.png (deflated 1%)\r\n",
      "  adding: images/100.png (deflated 5%)\r\n",
      "  adding: images/111.png (deflated 5%)\r\n",
      "  adding: images/199.png (deflated 5%)\r\n",
      "  adding: images/134.png (deflated 0%)\r\n",
      "  adding: images/126.png (deflated 1%)\r\n",
      "  adding: images/179.png (deflated 1%)\r\n",
      "  adding: images/45.png (deflated 4%)\r\n",
      "  adding: images/86.png (deflated 7%)\r\n",
      "  adding: images/175.png (deflated 0%)\r\n",
      "  adding: images/132.png (deflated 0%)\r\n",
      "  adding: images/83.png (deflated 6%)\r\n",
      "  adding: images/47.png (deflated 9%)\r\n",
      "  adding: images/173.png (deflated 6%)\r\n",
      "  adding: images/16.png (deflated 1%)\r\n",
      "  adding: images/189.png (deflated 4%)\r\n",
      "  adding: images/140.png (deflated 12%)\r\n",
      "  adding: images/116.png (deflated 8%)\r\n",
      "  adding: images/172.png (deflated 2%)\r\n",
      "  adding: images/95.png (deflated 8%)\r\n",
      "  adding: images/69.png (deflated 4%)\r\n",
      "  adding: images/18.png (deflated 1%)\r\n",
      "  adding: images/74.png (deflated 5%)\r\n",
      "  adding: images/70.png (deflated 4%)\r\n",
      "  adding: images/185.png (deflated 2%)\r\n",
      "  adding: images/114.png (deflated 8%)\r\n",
      "  adding: images/96.png (deflated 9%)\r\n",
      "  adding: images/21.png (deflated 0%)\r\n",
      "  adding: images/99.png (deflated 4%)\r\n",
      "  adding: images/52.png (deflated 4%)\r\n",
      "  adding: images/11.png (deflated 0%)\r\n",
      "  adding: images/17.png (deflated 1%)\r\n",
      "  adding: images/77.png (deflated 2%)\r\n",
      "  adding: images/60.png (deflated 12%)\r\n",
      "  adding: images/164.png (deflated 4%)\r\n",
      "  adding: images/92.png (deflated 7%)\r\n",
      "  adding: images/91.png (deflated 3%)\r\n",
      "  adding: images/22.png (deflated 0%)\r\n",
      "  adding: images/153.png (deflated 3%)\r\n",
      "  adding: images/138.png (deflated 6%)\r\n",
      "  adding: images/68.png (deflated 9%)\r\n",
      "  adding: images/78.png (deflated 14%)\r\n",
      "  adding: images/0.png (deflated 0%)\r\n",
      "  adding: images/50.png (deflated 5%)\r\n",
      "  adding: images/142.png (deflated 6%)\r\n",
      "  adding: images/64.png (deflated 8%)\r\n",
      "  adding: images/149.png (deflated 1%)\r\n",
      "  adding: images/87.png (deflated 4%)\r\n",
      "  adding: images/141.png (deflated 1%)\r\n",
      "  adding: images/197.png (deflated 2%)\r\n",
      "  adding: images/31.png (deflated 0%)\r\n",
      "  adding: images/32.png (deflated 1%)\r\n",
      "  adding: images/120.png (deflated 1%)\r\n",
      "  adding: images/127.png (deflated 4%)\r\n",
      "  adding: images/59.png (deflated 13%)\r\n",
      "  adding: images/62.png (deflated 19%)\r\n",
      "  adding: images/151.png (deflated 3%)\r\n",
      "  adding: images/30.png (deflated 1%)\r\n",
      "  adding: images/160.png (deflated 2%)\r\n",
      "  adding: images/43.png (deflated 12%)\r\n",
      "  adding: images/188.png (deflated 2%)\r\n",
      "  adding: images/161.png (deflated 3%)\r\n",
      "  adding: images/8.png (deflated 0%)\r\n",
      "  adding: images/33.png (deflated 0%)\r\n",
      "  adding: images/190.png (deflated 2%)\r\n",
      "  adding: images/42.png (deflated 4%)\r\n",
      "  adding: images/163.png (deflated 2%)\r\n",
      "  adding: images/119.png (deflated 8%)\r\n",
      "  adding: images/88.png (deflated 5%)\r\n",
      "  adding: images/198.png (deflated 1%)\r\n",
      "  adding: images/81.png (deflated 0%)\r\n",
      "  adding: images/176.png (deflated 8%)\r\n",
      "  adding: images/105.png (deflated 4%)\r\n",
      "  adding: images/35.png (deflated 0%)\r\n",
      "  adding: images/136.png (deflated 4%)\r\n",
      "  adding: images/44.png (deflated 3%)\r\n",
      "  adding: images/194.png (deflated 2%)\r\n",
      "  adding: images/152.png (deflated 3%)\r\n",
      "  adding: images/53.png (deflated 5%)\r\n",
      "  adding: images/75.png (deflated 3%)\r\n",
      "  adding: images/195.png (deflated 4%)\r\n",
      "  adding: images/28.png (deflated 0%)\r\n",
      "  adding: images/110.png (deflated 5%)\r\n",
      "  adding: images/178.png (deflated 2%)\r\n",
      "  adding: images/58.png (deflated 7%)\r\n",
      "  adding: images/131.png (deflated 0%)\r\n",
      "  adding: images/38.png (deflated 0%)\r\n",
      "  adding: images/54.png (deflated 3%)\r\n",
      "  adding: images/7.png (deflated 1%)\r\n",
      "  adding: images/192.png (deflated 2%)\r\n",
      "  adding: images/48.png (deflated 10%)\r\n",
      "  adding: images/6.png (deflated 0%)\r\n",
      "  adding: images/104.png (deflated 4%)\r\n",
      "  adding: images/12.png (deflated 0%)\r\n",
      "  adding: images/55.png (deflated 3%)\r\n",
      "  adding: images/181.png (deflated 2%)\r\n",
      "  adding: images/124.png (deflated 2%)\r\n",
      "  adding: images/184.png (deflated 3%)\r\n",
      "  adding: images/107.png (deflated 4%)\r\n",
      "  adding: images/108.png (deflated 8%)\r\n",
      "  adding: images/187.png (deflated 4%)\r\n",
      "  adding: images/89.png (deflated 1%)\r\n",
      "  adding: images/29.png (deflated 0%)\r\n",
      "  adding: images/90.png (deflated 6%)\r\n",
      "  adding: images/177.png (deflated 5%)\r\n",
      "  adding: images/73.png (deflated 9%)\r\n",
      "  adding: images/34.png (deflated 0%)\r\n",
      "  adding: images/13.png (deflated 0%)\r\n",
      "  adding: images/2.png (deflated 0%)\r\n",
      "  adding: images/1.png (deflated 1%)\r\n",
      "  adding: images/79.png (deflated 20%)\r\n",
      "  adding: images/174.png (deflated 2%)\r\n",
      "  adding: images/193.png (deflated 4%)\r\n",
      "  adding: images/135.png (deflated 0%)\r\n",
      "  adding: images/80.png (deflated 6%)\r\n",
      "  adding: images/150.png (deflated 2%)\r\n",
      "  adding: images/121.png (deflated 1%)\r\n",
      "  adding: images/65.png (deflated 14%)\r\n",
      "  adding: images/85.png (deflated 5%)\r\n",
      "  adding: images/84.png (deflated 3%)\r\n",
      "  adding: images/155.png (deflated 5%)\r\n",
      "  adding: images/3.png (deflated 2%)\r\n",
      "  adding: masks/ (stored 0%)\r\n",
      "  adding: masks/129.png (deflated 9%)\r\n",
      "  adding: masks/72.png (deflated 16%)\r\n",
      "  adding: masks/15.png (deflated 4%)\r\n",
      "  adding: masks/23.png (deflated 10%)\r\n",
      "  adding: masks/137.png (deflated 3%)\r\n",
      "  adding: masks/20.png (deflated 4%)\r\n",
      "  adding: masks/112.png (deflated 6%)\r\n",
      "  adding: masks/118.png (deflated 6%)\r\n",
      "  adding: masks/10.png (deflated 9%)\r\n",
      "  adding: masks/113.png (deflated 5%)\r\n",
      "  adding: masks/147.png (deflated 12%)\r\n",
      "  adding: masks/115.png (deflated 4%)\r\n",
      "  adding: masks/24.png (deflated 6%)\r\n",
      "  adding: masks/49.png (deflated 13%)\r\n",
      "  adding: masks/4.png (deflated 9%)\r\n",
      "  adding: masks/51.png (deflated 10%)\r\n",
      "  adding: masks/122.png (deflated 8%)\r\n",
      "  adding: masks/103.png (deflated 5%)\r\n",
      "  adding: masks/41.png (deflated 7%)\r\n",
      "  adding: masks/125.png (deflated 25%)\r\n",
      "  adding: masks/67.png (deflated 18%)\r\n",
      "  adding: masks/94.png (deflated 6%)\r\n",
      "  adding: masks/9.png (deflated 13%)\r\n",
      "  adding: masks/101.png (deflated 3%)\r\n",
      "  adding: masks/133.png (deflated 3%)\r\n",
      "  adding: masks/37.png (deflated 4%)\r\n",
      "  adding: masks/40.png (deflated 11%)\r\n",
      "  adding: masks/145.png (deflated 14%)\r\n",
      "  adding: masks/56.png (deflated 11%)\r\n",
      "  adding: masks/76.png (deflated 8%)\r\n",
      "  adding: masks/102.png (deflated 6%)\r\n",
      "  adding: masks/117.png (deflated 6%)\r\n",
      "  adding: masks/61.png (deflated 13%)\r\n",
      "  adding: masks/146.png (deflated 5%)\r\n",
      "  adding: masks/39.png (deflated 9%)\r\n",
      "  adding: masks/106.png (deflated 10%)\r\n",
      "  adding: masks/154.png (deflated 4%)\r\n",
      "  adding: masks/63.png (deflated 16%)\r\n",
      "  adding: masks/26.png (deflated 4%)\r\n",
      "  adding: masks/27.png (deflated 4%)\r\n",
      "  adding: masks/36.png (deflated 6%)\r\n",
      "  adding: masks/98.png (deflated 6%)\r\n",
      "  adding: masks/130.png (deflated 7%)\r\n",
      "  adding: masks/46.png (deflated 16%)\r\n",
      "  adding: masks/97.png (deflated 6%)\r\n",
      "  adding: masks/139.png (deflated 8%)\r\n",
      "  adding: masks/123.png (deflated 7%)\r\n",
      "  adding: masks/66.png (deflated 12%)\r\n",
      "  adding: masks/82.png (deflated 5%)\r\n",
      "  adding: masks/14.png (deflated 2%)\r\n",
      "  adding: masks/93.png (deflated 9%)\r\n",
      "  adding: masks/57.png (deflated 7%)\r\n",
      "  adding: masks/25.png (deflated 7%)\r\n",
      "  adding: masks/144.png (deflated 11%)\r\n",
      "  adding: masks/5.png (deflated 6%)\r\n",
      "  adding: masks/109.png (deflated 4%)\r\n",
      "  adding: masks/71.png (deflated 10%)\r\n",
      "  adding: masks/19.png (deflated 4%)\r\n",
      "  adding: masks/100.png (deflated 6%)\r\n",
      "  adding: masks/111.png (deflated 5%)\r\n",
      "  adding: masks/134.png (deflated 1%)\r\n",
      "  adding: masks/126.png (deflated 4%)\r\n",
      "  adding: masks/45.png (deflated 10%)\r\n",
      "  adding: masks/86.png (deflated 9%)\r\n",
      "  adding: masks/132.png (deflated 2%)\r\n",
      "  adding: masks/83.png (deflated 9%)\r\n",
      "  adding: masks/47.png (deflated 11%)\r\n",
      "  adding: masks/16.png (deflated 4%)\r\n",
      "  adding: masks/140.png (deflated 18%)\r\n",
      "  adding: masks/116.png (deflated 9%)\r\n",
      "  adding: masks/95.png (deflated 10%)\r\n",
      "  adding: masks/69.png (deflated 10%)\r\n",
      "  adding: masks/18.png (deflated 5%)\r\n",
      "  adding: masks/74.png (deflated 19%)\r\n",
      "  adding: masks/70.png (deflated 13%)\r\n",
      "  adding: masks/114.png (deflated 10%)\r\n",
      "  adding: masks/96.png (deflated 15%)\r\n",
      "  adding: masks/21.png (deflated 2%)\r\n",
      "  adding: masks/99.png (deflated 7%)\r\n",
      "  adding: masks/52.png (deflated 12%)\r\n",
      "  adding: masks/11.png (deflated 6%)\r\n",
      "  adding: masks/17.png (deflated 4%)\r\n",
      "  adding: masks/77.png (deflated 8%)\r\n",
      "  adding: masks/60.png (deflated 14%)\r\n",
      "  adding: masks/92.png (deflated 9%)\r\n",
      "  adding: masks/91.png (deflated 6%)\r\n",
      "  adding: masks/22.png (deflated 5%)\r\n",
      "  adding: masks/153.png (deflated 5%)\r\n",
      "  adding: masks/138.png (deflated 12%)\r\n",
      "  adding: masks/68.png (deflated 10%)\r\n",
      "  adding: masks/78.png (deflated 21%)\r\n",
      "  adding: masks/0.png (deflated 6%)\r\n",
      "  adding: masks/50.png (deflated 12%)\r\n",
      "  adding: masks/142.png (deflated 11%)\r\n",
      "  adding: masks/64.png (deflated 10%)\r\n",
      "  adding: masks/149.png (deflated 5%)\r\n",
      "  adding: masks/87.png (deflated 8%)\r\n",
      "  adding: masks/141.png (deflated 5%)\r\n",
      "  adding: masks/31.png (deflated 5%)\r\n",
      "  adding: masks/32.png (deflated 16%)\r\n",
      "  adding: masks/120.png (deflated 6%)\r\n",
      "  adding: masks/127.png (deflated 17%)\r\n",
      "  adding: masks/59.png (deflated 12%)\r\n",
      "  adding: masks/62.png (deflated 22%)\r\n",
      "  adding: masks/151.png (deflated 5%)\r\n",
      "  adding: masks/30.png (deflated 4%)\r\n",
      "  adding: masks/43.png (deflated 10%)\r\n",
      "  adding: masks/8.png (deflated 6%)\r\n",
      "  adding: masks/33.png (deflated 8%)\r\n",
      "  adding: masks/42.png (deflated 10%)\r\n",
      "  adding: masks/119.png (deflated 8%)\r\n",
      "  adding: masks/88.png (deflated 8%)\r\n",
      "  adding: masks/81.png (deflated 2%)\r\n",
      "  adding: masks/105.png (deflated 7%)\r\n",
      "  adding: masks/35.png (deflated 3%)\r\n",
      "  adding: masks/136.png (deflated 6%)\r\n",
      "  adding: masks/44.png (deflated 16%)\r\n",
      "  adding: masks/152.png (deflated 6%)\r\n",
      "  adding: masks/53.png (deflated 21%)\r\n",
      "  adding: masks/75.png (deflated 10%)\r\n",
      "  adding: masks/28.png (deflated 10%)\r\n",
      "  adding: masks/110.png (deflated 9%)\r\n",
      "  adding: masks/58.png (deflated 11%)\r\n",
      "  adding: masks/131.png (deflated 2%)\r\n",
      "  adding: masks/38.png (deflated 6%)\r\n",
      "  adding: masks/54.png (deflated 11%)\r\n",
      "  adding: masks/7.png (deflated 6%)\r\n",
      "  adding: masks/48.png (deflated 13%)\r\n",
      "  adding: masks/6.png (deflated 5%)\r\n",
      "  adding: masks/104.png (deflated 9%)\r\n",
      "  adding: masks/12.png (deflated 6%)\r\n",
      "  adding: masks/55.png (deflated 5%)\r\n",
      "  adding: masks/124.png (deflated 6%)\r\n",
      "  adding: masks/107.png (deflated 6%)\r\n",
      "  adding: masks/108.png (deflated 14%)\r\n",
      "  adding: masks/89.png (deflated 4%)\r\n",
      "  adding: masks/29.png (deflated 10%)\r\n",
      "  adding: masks/90.png (deflated 10%)\r\n",
      "  adding: masks/73.png (deflated 10%)\r\n",
      "  adding: masks/34.png (deflated 4%)\r\n",
      "  adding: masks/13.png (deflated 4%)\r\n",
      "  adding: masks/2.png (deflated 8%)\r\n",
      "  adding: masks/1.png (deflated 4%)\r\n",
      "  adding: masks/79.png (deflated 27%)\r\n",
      "  adding: masks/135.png (deflated 3%)\r\n",
      "  adding: masks/80.png (deflated 8%)\r\n",
      "  adding: masks/150.png (deflated 4%)\r\n",
      "  adding: masks/121.png (deflated 6%)\r\n",
      "  adding: masks/65.png (deflated 13%)\r\n",
      "  adding: masks/85.png (deflated 7%)\r\n",
      "  adding: masks/84.png (deflated 7%)\r\n",
      "  adding: masks/155.png (deflated 10%)\r\n",
      "  adding: masks/3.png (deflated 5%)\r\n"
     ]
    },
    {
     "data": {
      "text/plain": [
       "'https://huggingface.co/datasets/ain3007-project/dataset-thumbnails-512-padded/blob/main/metadata.csv'"
      ]
     },
     "execution_count": 23,
     "metadata": {},
     "output_type": "execute_result"
    }
   ],
   "source": [
    "api = hfh.HfApi()\n",
    "\n",
    "# upload zipped folder\n",
    "!zip -r images.zip images\n",
    "!zip -r masks.zip masks\n",
    "\n",
    "api.upload_file(\n",
    "    path_or_fileobj=\"images.zip\",\n",
    "    path_in_repo=\"images.zip\",\n",
    "    repo_id=output_repo_id,\n",
    "    repo_type=\"dataset\",\n",
    ")\n",
    "\n",
    "api.upload_file(\n",
    "    path_or_fileobj=\"masks.zip\",\n",
    "    path_in_repo=\"masks.zip\",\n",
    "    repo_id=output_repo_id,\n",
    "    repo_type=\"dataset\",\n",
    ")\n",
    "\n",
    "api.upload_file(\n",
    "    path_or_fileobj=\"metadata.csv\",\n",
    "    path_in_repo=\"metadata.csv\",\n",
    "    repo_id=output_repo_id,\n",
    "    repo_type=\"dataset\",\n",
    ")"
   ]
  }
 ],
 "metadata": {
  "kaggle": {
   "accelerator": "none",
   "dataSources": [],
   "isGpuEnabled": false,
   "isInternetEnabled": true,
   "language": "python",
   "sourceType": "notebook"
  },
  "kernelspec": {
   "display_name": "Python 3",
   "language": "python",
   "name": "python3"
  },
  "language_info": {
   "codemirror_mode": {
    "name": "ipython",
    "version": 3
   },
   "file_extension": ".py",
   "mimetype": "text/x-python",
   "name": "python",
   "nbconvert_exporter": "python",
   "pygments_lexer": "ipython3",
   "version": "3.10.12"
  },
  "papermill": {
   "default_parameters": {},
   "duration": 1456.026198,
   "end_time": "2024-01-06T20:13:09.397903",
   "environment_variables": {},
   "exception": null,
   "input_path": "__notebook__.ipynb",
   "output_path": "__notebook__.ipynb",
   "parameters": {},
   "start_time": "2024-01-06T19:48:53.371705",
   "version": "2.4.0"
  }
 },
 "nbformat": 4,
 "nbformat_minor": 5
}
